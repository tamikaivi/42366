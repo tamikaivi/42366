{
 "cells": [
  {
   "cell_type": "raw",
   "metadata": {},
   "source": [
    "Resolver con IF:\n",
    "\n",
    "21. Escribir un programa que determine si el año es bisiesto. Un año es bisiesto si es\n",
    "múltiplo de 4 (1988), excepto los múltiplos de 100 que no son bisiestos salvo que a su\n",
    "vez también sean múltiplos de 400 (1800no es bisiesto, 2000 sí)."
   ]
  },
  {
   "cell_type": "code",
   "execution_count": 4,
   "metadata": {},
   "outputs": [
    {
     "name": "stdout",
     "output_type": "stream",
     "text": [
      "Ingrese un Anio 2000\n",
      "El anio 2000 es Bisiesto\n"
     ]
    }
   ],
   "source": [
    "anio=int(input(\"Ingrese un Anio \"))\n",
    "if anio % 4 == 0:\n",
    "    if anio % 100 == 0:\n",
    "        if anio % 400 == 0:\n",
    "            print(f\"El anio {anio} es Bisiesto\")\n",
    "        else:\n",
    "            print(f\"El anio {anio} no es Bisiesto\")\n",
    "    else:\n",
    "        print(f\"El anio {anio} es Bisiesto\")\n",
    "else:\n",
    "    print(f\"El anio {anio} no es Bisiesto\")"
   ]
  },
  {
   "cell_type": "raw",
   "metadata": {},
   "source": [
    "22. Dado los valores de A, B, C que son los coeficientes de la ecuación de segundo grado,\n",
    "hallar sus raíces reales, desplegar los resultados."
   ]
  },
  {
   "cell_type": "code",
   "execution_count": 5,
   "metadata": {},
   "outputs": [
    {
     "name": "stdout",
     "output_type": "stream",
     "text": [
      "ECUACIÓN A X² + B X + C = 0\n",
      "Escriba el valor del coeficiente a: 1\n",
      "Escriba el valor del coeficiente b: 1\n",
      "Escriba el valor del coeficiente c: 1\n",
      "La ecuación no tiene solución real\n"
     ]
    }
   ],
   "source": [
    "import math\n",
    "print(\"ECUACIÓN A X² + B X + C = 0\")\n",
    "coea = float(input(\"Escriba el valor del coeficiente a: \"))\n",
    "coeb = float(input(\"Escriba el valor del coeficiente b: \"))\n",
    "coec = float(input(\"Escriba el valor del coeficiente c: \"))\n",
    "if coea == coeb == coec == 0:\n",
    "    print(f\"Los numeros {coea} {coeb} {coec} son solucion\")\n",
    "elif coea == coeb == 0:\n",
    "    print(f\"La ecuacion con los coeficientes: {coea} {coeb} {coec} no tiene colucion\")\n",
    "elif coea == 0:\n",
    "    solu=-coec/coeb\n",
    "    print(f\"La ecuación tiene una solución: {solu}\")\n",
    "else:\n",
    "    coed = coeb**2 - 4 * coea * coec\n",
    "    if coed < 0:\n",
    "        print(f\"La ecuación no tiene solución real\")\n",
    "    elif coed == 0:\n",
    "        solucion=-coeb / (2 * coea)\n",
    "        print(f\"La ecuación tiene una solución: {solucion}\")\n",
    "    else:\n",
    "        sol1=(-coeb + coed ** 0.5) / (2 * coea)\n",
    "        sol2=(-coeb - coed ** 0.5) / (2 * coea)\n",
    "        print(f\"La ecuación tiene dos soluciones: {sol1} y {sol2} \")"
   ]
  },
  {
   "cell_type": "raw",
   "metadata": {},
   "source": [
    "Resolver con WHILE:\n",
    "\n",
    "23. Dado dos valores A y B, realizar el producto de los dos números por sumas sucesivas,\n",
    "almacenar el resultado en una variable P, mostrar el resultado."
   ]
  },
  {
   "cell_type": "code",
   "execution_count": 9,
   "metadata": {},
   "outputs": [
    {
     "name": "stdout",
     "output_type": "stream",
     "text": [
      "Escriba el valor de a: 4\n",
      "Escriba el valor de b: 5\n",
      "20\n"
     ]
    }
   ],
   "source": [
    "na = int(input(\"Escriba el valor de a: \"))\n",
    "nb = int(input(\"Escriba el valor de b: \"))\n",
    "i=1\n",
    "P=0\n",
    "while i <= nb:\n",
    "    P=na+P\n",
    "    i+=1\n",
    "print(P)"
   ]
  },
  {
   "cell_type": "raw",
   "metadata": {},
   "source": [
    "24. Dado un número X, determinar el número de dígitos del que esta compuesto y\n",
    "desplegar el resultado."
   ]
  },
  {
   "cell_type": "code",
   "execution_count": 12,
   "metadata": {},
   "outputs": [
    {
     "name": "stdout",
     "output_type": "stream",
     "text": [
      "Escriba el valor de x: 23\n",
      "2\n"
     ]
    }
   ],
   "source": [
    "nx = input(\"Escriba el valor de x: \")\n",
    "print(len(nx))"
   ]
  },
  {
   "cell_type": "markdown",
   "metadata": {},
   "source": [
    "#### 25. Escribir un programa que calcule y visualice el más grande, el más pequeño y la media\n",
    "de N números. El valor de N se solicitará al principio del programa y los números\n",
    "serán introducidos por el usuario."
   ]
  },
  {
   "cell_type": "code",
   "execution_count": 14,
   "metadata": {},
   "outputs": [
    {
     "name": "stdout",
     "output_type": "stream",
     "text": [
      "Escriba el valor de x: 4\n",
      "Numero 1: 2\n",
      "Numero 2: 7\n",
      "Numero 3: 1\n",
      "Numero 4: 3\n",
      "El mas grande es: 7\n",
      "El mas pequenio es: 1\n",
      "LA media es: 3.25\n"
     ]
    }
   ],
   "source": [
    "nn = int(input(\"Escriba el valor de x: \"))\n",
    "i=1\n",
    "listan=[]\n",
    "while i <= nn:\n",
    "    val=int(input(f\"Numero {i}: \"))\n",
    "    listan.append(val)\n",
    "    i+=1\n",
    "print(f\"El mas grande es: {max(listan)}\")\n",
    "print(f\"El mas pequenio es: {min(listan)}\")\n",
    "print(f\"La media es: {sum(listan)/len(listan)}\")"
   ]
  },
  {
   "cell_type": "raw",
   "metadata": {},
   "source": [
    "26. Dado dos números A y B enteros mayores a cero, hallar A^B por sumas. Desplegar los\n",
    "números y el resultado."
   ]
  },
  {
   "cell_type": "code",
   "execution_count": 9,
   "metadata": {},
   "outputs": [
    {
     "name": "stdout",
     "output_type": "stream",
     "text": [
      "Escriba el valor de A: 5\n",
      "Escriba el valor de B: 9\n",
      "80\n"
     ]
    }
   ],
   "source": [
    "na = int(input(\"Escriba el valor de A: \"))\n",
    "nb = int(input(\"Escriba el valor de B: \"))\n",
    "i=1\n",
    "P=0\n",
    "j=1\n",
    "re=0\n",
    "while j <= nb:\n",
    "    while i <= na:\n",
    "        if i == 1:\n",
    "            P=na+P\n",
    "            i+=1 \n",
    "        else:\n",
    "            P=P+P\n",
    "            i+=1\n",
    "        \n",
    "    j+=1\n",
    "print(P)\n"
   ]
  },
  {
   "cell_type": "raw",
   "metadata": {},
   "source": [
    "Resolver con FOR:\n",
    "27. La constante pi (3.1441592...) es muy utilizada en matemáticas. Un método sencillo\n",
    "de calcular su valor es:\n",
    "\n",
    "pi = 2* (1/2)*(2/3)*(4/3)*(4/5)*(6/5)*(6/7)*(8/7)*(8/9)...\n",
    "\n",
    "Escribir un programa que efectúe este cálculo con un número de términos\n",
    "especificando por el usuario.\n"
   ]
  },
  {
   "cell_type": "code",
   "execution_count": null,
   "metadata": {},
   "outputs": [],
   "source": []
  },
  {
   "cell_type": "raw",
   "metadata": {},
   "source": [
    "28. El valor de e^x se puede aproximar por la suma\n",
    "\n",
    "1+(x)+(x^2/2!)+(x^3/3!)+(x^4/4!)+...+(x^n/n!)\n",
    "\n",
    "Escribir un programa que tome un valor de x como entrada y visualice la suma para\n",
    "cada uno de los valores de 1 a 100."
   ]
  },
  {
   "cell_type": "code",
   "execution_count": null,
   "metadata": {},
   "outputs": [],
   "source": []
  },
  {
   "cell_type": "raw",
   "metadata": {},
   "source": [
    "USO DE LISTAS ANIDADAS:\n",
    "29. Calcular la suma de todos los elementos de un vector, así como la media aritmética."
   ]
  },
  {
   "cell_type": "code",
   "execution_count": null,
   "metadata": {},
   "outputs": [],
   "source": []
  },
  {
   "cell_type": "raw",
   "metadata": {},
   "source": [
    "30. Multiplicar dos matrices.\n"
   ]
  },
  {
   "cell_type": "code",
   "execution_count": null,
   "metadata": {},
   "outputs": [],
   "source": []
  }
 ],
 "metadata": {
  "kernelspec": {
   "display_name": "Python 3",
   "language": "python",
   "name": "python3"
  },
  "language_info": {
   "codemirror_mode": {
    "name": "ipython",
    "version": 3
   },
   "file_extension": ".py",
   "mimetype": "text/x-python",
   "name": "python",
   "nbconvert_exporter": "python",
   "pygments_lexer": "ipython3",
   "version": "3.7.4"
  }
 },
 "nbformat": 4,
 "nbformat_minor": 2
}
