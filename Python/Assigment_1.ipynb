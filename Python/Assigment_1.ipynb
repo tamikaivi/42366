{
 "cells": [
  {
   "cell_type": "raw",
   "metadata": {},
   "source": [
    "1. Escriba un programa que lea un entero (input), lo multiplique por 3 y lo imprima."
   ]
  },
  {
   "cell_type": "code",
   "execution_count": 40,
   "metadata": {},
   "outputs": [
    {
     "name": "stdout",
     "output_type": "stream",
     "text": [
      "Ingrese un entero: 4\n",
      "12\n"
     ]
    }
   ],
   "source": [
    "en=input(\"Ingrese un entero: \")\n",
    "print(f\"{int(en)*3}\")"
   ]
  },
  {
   "cell_type": "raw",
   "metadata": {},
   "source": [
    "2. Escribir un programa que pida al cliente la longitud y ancho de la habitación e\n",
    "imprima la superficie de la habitación, los valores podrán tener decimales.\n",
    "Formato de salida deseado: xx.yy m^2"
   ]
  },
  {
   "cell_type": "code",
   "execution_count": 38,
   "metadata": {},
   "outputs": [
    {
     "name": "stdout",
     "output_type": "stream",
     "text": [
      "Ingrese longitud: 3\n",
      "Ingrese ancho: 5\n",
      "superficie: 15.0 m^2\n"
     ]
    }
   ],
   "source": [
    "longitud=input(\"Ingrese longitud: \")\n",
    "ancho=input(\"Ingrese ancho: \")\n",
    "longitud=float(longitud)\n",
    "ancho=float(ancho)\n",
    "superficie=longitud*ancho\n",
    "print(f\"superficie: {superficie} m^2\")"
   ]
  },
  {
   "cell_type": "raw",
   "metadata": {},
   "source": [
    "3. Determinar el área y volumen de un cilindro cuyas dimensiones (radio - altura) se lean\n",
    "desde el teclado.\n",
    "Formato de salida deseado: xx.yy m^3"
   ]
  },
  {
   "cell_type": "code",
   "execution_count": 37,
   "metadata": {},
   "outputs": [
    {
     "name": "stdout",
     "output_type": "stream",
     "text": [
      "Ingrese el radio: 1.8\n",
      "Ingrese altura: 4.1\n",
      "Area: 66.7274279622472 m^2\n",
      "Volumen: 41.73291681028681 m^3\n"
     ]
    }
   ],
   "source": [
    "radio=input(\"Ingrese el radio: \")\n",
    "altura=input(\"Ingrese altura: \")\n",
    "radio=float(radio)\n",
    "altura=float(altura)\n",
    "A=2*3.141592653589793*radio*(altura+radio)\n",
    "V=3.141592653589793*(radio**2)*altura\n",
    "print(f\"Area: {A} m^2\")\n",
    "print(f\"Volumen: {V} m^3\")\n"
   ]
  },
  {
   "cell_type": "raw",
   "metadata": {},
   "source": [
    "4. La fuerza de atracción entre dos masas m1 y m2 separadas por una distancia d, está\n",
    "dada por la fórmula:\n",
    "\n",
    "    F= (G m1 m2) / (d^2)\n",
    "\n",
    "Donde G es la constante de gravitación universal:\n",
    "G = 6.673X10^-8 cm^3 / g * seg^2\n",
    "\n",
    "\n",
    "Escriba un programa que lea la masa de dos cuerpos y la distancia entre ellos y a\n",
    "continuación obtenga la fuerza gravitacional entre ella. La salida debe ser en dinas; un\n",
    "DINA es igual a g*cm/seg^2.\n",
    "\n",
    "Formato de salida deseado: xx.yy dyn"
   ]
  },
  {
   "cell_type": "code",
   "execution_count": 30,
   "metadata": {},
   "outputs": [
    {
     "name": "stdout",
     "output_type": "stream",
     "text": [
      "Ingrese la masa 1: 2\n",
      "Ingrese la masa 2: 2\n",
      "Ingrese distancia: 2\n",
      "6.673e-08 dyn\n"
     ]
    }
   ],
   "source": [
    "m1=float(input(\"Ingrese la masa 1: \"))\n",
    "m2=float(input(\"Ingrese la masa 2: \"))\n",
    "d=float(input(\"Ingrese distancia: \"))\n",
    "G=6.673*(10**(-8))\n",
    "F=(G*m1*m2)/d**2\n",
    "print(f\"{F} dyn\")"
   ]
  },
  {
   "cell_type": "raw",
   "metadata": {},
   "source": [
    "5. La famosa ecuación de Einstein para conversión de una masa m en energía viene dada\n",
    "por la fórmula\n",
    "\n",
    "E = cm^3 \n",
    "pero la correcta es E=cm^2\n",
    "c es lavelocidad de la luz\n",
    "c=2.997925x10^10 m/seg\n",
    "\n",
    "Escribir un programa que lea una masa en gramos y obtenga la cantidad de energía\n",
    "producida cuando la masa se convierta en energía.\n",
    "Nota: se la masa se da en gramos, la fórmula produce la energía en ergios.\n",
    "Formato de salida deseado: xx.yy erg"
   ]
  },
  {
   "cell_type": "code",
   "execution_count": 27,
   "metadata": {},
   "outputs": [
    {
     "name": "stdout",
     "output_type": "stream",
     "text": [
      "Ingrese la masa en gramos: 43.54\n",
      "56832611569299.99 erg\n"
     ]
    }
   ],
   "source": [
    "masa=input(\"Ingrese la masa en gramos: \")\n",
    "E=(2.997925*(10**10))*(float(masa)**2)\n",
    "print(f\"{E} erg\")"
   ]
  },
  {
   "cell_type": "raw",
   "metadata": {},
   "source": [
    "6. Escribir un programa que lea la hora en un día de notación 24 horas y escriba la\n",
    "respuesta en notación de 12 horas. Por ejemplo, si la entrada es 13:45, la salida será:\n",
    "\n",
    "1:45 PM\n",
    "\n",
    "El programa pedirá al usuario que introduzca exactamente cinco caracteres. Así, por\n",
    "ejemplo, las nueve en punto se introduce como:\n",
    "09:00"
   ]
  },
  {
   "cell_type": "code",
   "execution_count": 23,
   "metadata": {},
   "outputs": [
    {
     "name": "stdout",
     "output_type": "stream",
     "text": [
      "Ingrese la Hora: 23:54\n",
      "11:54 PM\n"
     ]
    }
   ],
   "source": [
    "hora=input(\"Ingrese la Hora: \")\n",
    "h=hora.split(\":\")\n",
    "if int(h[0])>12:\n",
    "    nh=int(h[0])-12\n",
    "    print(f\"{nh}:{h[1]} PM\")\n",
    "else:\n",
    "    print(f\"{h[0]}:{h[1]} AM\")"
   ]
  },
  {
   "cell_type": "raw",
   "metadata": {},
   "source": [
    "7. Leer un número A, evaluar sucesivamente las expresiones siguientes y desplegar los\n",
    "resultados obtenidos en un archivo denominado “practica01.out”.\n",
    "B = A + 10\n",
    "C = 2 * B + A\n",
    "D = A + B + C + 5\n",
    "Formato de salida deseado:\n",
    "Ejercicio 9.\n",
    "A = xx\n",
    "B = yy\n",
    "C = zz\n",
    "D = xyz"
   ]
  },
  {
   "cell_type": "code",
   "execution_count": 20,
   "metadata": {},
   "outputs": [
    {
     "name": "stdout",
     "output_type": "stream",
     "text": [
      "Ingrese A: 65\n"
     ]
    }
   ],
   "source": [
    "A=int(input(\"Ingrese A: \"))\n",
    "B=A+10\n",
    "C=2*B+A\n",
    "D=A+B+C+5\n",
    "print(f\"A={A}\\nB={B}\\nC={C}\\nD={D}\",file=open(\"practica01.out\",\"w\"))"
   ]
  },
  {
   "cell_type": "raw",
   "metadata": {},
   "source": [
    "8. Hacer leer un número X de tipo decimal, hallar su valor absoluto y decimal, desplegar\n",
    "el resultado dentro del archivo “practica01.out”.\n",
    "Formato de salida deseado:\n",
    "Ejercicio 8.\n",
    "Número: xx.yy\n",
    "Valor absoluto: xx\n",
    "Parte decimal: yy"
   ]
  },
  {
   "cell_type": "code",
   "execution_count": 18,
   "metadata": {},
   "outputs": [
    {
     "name": "stdout",
     "output_type": "stream",
     "text": [
      "Ingrese X de tipo decimal: 32.53\n"
     ]
    }
   ],
   "source": [
    "X=input(\"Ingrese X de tipo decimal: \")\n",
    "lista=X.split(\".\")\n",
    "print(f\"Valor absoluto: {lista[0]} \\nParte decimal: {lista[1]}\",file=open(\"practica01.out\",\"w\"))"
   ]
  },
  {
   "cell_type": "raw",
   "metadata": {},
   "source": [
    "9. Leer a, b, c y d, hallar el menor y mayor de los cuatro números, desplegar su resultado\n",
    "en el archivo “practica01.out”."
   ]
  },
  {
   "cell_type": "code",
   "execution_count": 17,
   "metadata": {},
   "outputs": [
    {
     "name": "stdout",
     "output_type": "stream",
     "text": [
      "Ingrese a: 4\n",
      "Ingrese b: 5\n",
      "Ingrese c: 2\n",
      "Ingrese d: 7\n"
     ]
    }
   ],
   "source": [
    "a=int(input(\"Ingrese a: \"))\n",
    "b=int(input(\"Ingrese b: \"))\n",
    "c=int(input(\"Ingrese c: \"))\n",
    "d=int(input(\"Ingrese d: \"))\n",
    "lista=[a,b,c,d]\n",
    "print(f\"minimo: {min(lista)} y maximo: {max(lista)}\",file=open(\"practica01.out\",\"w\"))"
   ]
  },
  {
   "cell_type": "raw",
   "metadata": {},
   "source": [
    "10. Dado los valores de X, Y, Z, evaluar A = X^2+Y^2+Z^2. Si se cumple que, A<100 y Y<5\n",
    "calcular B = (X+Y)^2 + X*Z, caso contrario calcular B = (X-Y)^2 + X*Z. Desplegar A y B\n",
    "en el archivo “practica01.out”"
   ]
  },
  {
   "cell_type": "code",
   "execution_count": 12,
   "metadata": {},
   "outputs": [
    {
     "name": "stdout",
     "output_type": "stream",
     "text": [
      "Ingrese X: 5\n",
      "Ingrese Y: 7\n",
      "Ingrese Z: 2\n"
     ]
    }
   ],
   "source": [
    "X=int(input(\"Ingrese X: \"))\n",
    "Y=int(input(\"Ingrese Y: \"))\n",
    "Z=int(input(\"Ingrese Z: \"))\n",
    "A=X**2+Y**2+Z**2\n",
    "if A<100 and Y<5:\n",
    "    B=(X+Y)-X*Z\n",
    "    print(f\"{A} y {B}\",file=open(\"practica01.out\",\"w\"))\n",
    "else:\n",
    "    B=(X-Y)**2+X*Z\n",
    "    print(f\"{A} y {B}\",file=open(\"practica01.out\",\"w\"))"
   ]
  },
  {
   "cell_type": "code",
   "execution_count": null,
   "metadata": {},
   "outputs": [],
   "source": []
  },
  {
   "cell_type": "code",
   "execution_count": null,
   "metadata": {},
   "outputs": [],
   "source": []
  }
 ],
 "metadata": {
  "kernelspec": {
   "display_name": "Python 3",
   "language": "python",
   "name": "python3"
  },
  "language_info": {
   "codemirror_mode": {
    "name": "ipython",
    "version": 3
   },
   "file_extension": ".py",
   "mimetype": "text/x-python",
   "name": "python",
   "nbconvert_exporter": "python",
   "pygments_lexer": "ipython3",
   "version": "3.7.4"
  }
 },
 "nbformat": 4,
 "nbformat_minor": 2
}
