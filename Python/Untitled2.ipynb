{
 "cells": [
  {
   "cell_type": "markdown",
   "metadata": {},
   "source": [
    "Nombre: Vivian Georgina Loza Pinto\n",
    "Practica 1"
   ]
  },
  {
   "cell_type": "code",
   "execution_count": 5,
   "metadata": {},
   "outputs": [
    {
     "name": "stdout",
     "output_type": "stream",
     "text": [
      "2\n",
      "vcw6543%$%b6\n",
      "tvrecwcr evrt#$\n",
      "C 3\n",
      "R 3\n",
      "V 3\n",
      "E 2\n",
      "T 2\n",
      "W 2\n",
      "B 1\n"
     ]
    }
   ],
   "source": [
    "numr=int(input(\"\"))\n",
    "frases=\"\"\n",
    "alfa=\"ABCDEFGHIJKLMNOPQRSTUVWXYZ\"\n",
    "for i in range(numr):\n",
    "    palabra=input(\"\")\n",
    "    frases+=palabra\n",
    "frases=frases.upper()\n",
    "frase=\"\"\n",
    "for p in frases:\n",
    "    if p in alfa:\n",
    "        frase+=p\n",
    "listafra=list(frase)\n",
    "setlista=set(listafra)\n",
    "numeropal=[]\n",
    "for lp in setlista:\n",
    "    nume=listafra.count(lp)\n",
    "    numeropal.append(nume)\n",
    "dupla=list(zip(numeropal,setlista))\n",
    "dupla=sorted(dupla)\n",
    "dupla=sorted(dupla,key=lambda x: x[0], reverse=True)\n",
    "for key,valu in dupla:\n",
    "    print(valu,key)"
   ]
  },
  {
   "cell_type": "markdown",
   "metadata": {},
   "source": []
  },
  {
   "cell_type": "markdown",
   "metadata": {},
   "source": []
  }
 ],
 "metadata": {
  "kernelspec": {
   "display_name": "Python 3",
   "language": "python",
   "name": "python3"
  },
  "language_info": {
   "codemirror_mode": {
    "name": "ipython",
    "version": 3
   },
   "file_extension": ".py",
   "mimetype": "text/x-python",
   "name": "python",
   "nbconvert_exporter": "python",
   "pygments_lexer": "ipython3",
   "version": "3.7.4"
  }
 },
 "nbformat": 4,
 "nbformat_minor": 2
}
