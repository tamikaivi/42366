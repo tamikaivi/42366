{
 "cells": [
  {
   "cell_type": "markdown",
   "metadata": {},
   "source": [
    "<img src=cenapad.jpg align=left><BR><BR><BR><BR><BR><BR>\n",
    "<h1>Curso Introducción al Lenguaje Python<br>4. Tuplas, Diccionarios y Funciones</h1>\n",
    "<img src=python-logo.png align=left>"
   ]
  },
  {
   "cell_type": "markdown",
   "metadata": {},
   "source": [
    "# 4.1 Tuplas"
   ]
  },
  {
   "cell_type": "markdown",
   "metadata": {},
   "source": [
    "Las listas y cadenas tienen propiedades en común, como el indexado y las operaciones de seccionado. Estas son dos ejemplos de datos de tipo secuencia. Como Python es <b>un lenguaje en evolución</b>, otros datos de tipo secuencia pueden agregarse como la <b>tupla</b>.\n",
    "\n",
    "La tupla es también un tipo de datos básico de Python. Una tupla es semejante a una lista. Sin embargo, sus elementos son inmutables. Para definir una tupla (dupla,tripla,cuadrupla, etc.) usamos sus elementos entre paréntesis \"(\" y \")\" separados por comas, por ejemplo."
   ]
  },
  {
   "cell_type": "code",
   "execution_count": null,
   "metadata": {},
   "outputs": [],
   "source": [
    "mi_tupla = (4,9,3)\n",
    "print(mi_tupla)"
   ]
  },
  {
   "cell_type": "code",
   "execution_count": null,
   "metadata": {},
   "outputs": [],
   "source": [
    "#Podemos acceder a los elementos de una tupla con una sintaxis similar al acceso de elementos de listas\n",
    "print(mi_tupla[0])\n",
    "print(mi_tupla[2])"
   ]
  },
  {
   "cell_type": "code",
   "execution_count": null,
   "metadata": {},
   "outputs": [],
   "source": [
    "#Sin embargo,no podemos cambiar los valores de una tupla\n",
    "mi_tupla[0]=10"
   ]
  },
  {
   "cell_type": "code",
   "execution_count": null,
   "metadata": {},
   "outputs": [],
   "source": [
    "# Otros ejemplos de tuplas, los cuales son separados entre comas, sin paréntesis\n",
    "mi_tupla2 = 12345, 54321, 'hola!'\n",
    "mi_tupla2[0]"
   ]
  },
  {
   "cell_type": "code",
   "execution_count": 1,
   "metadata": {},
   "outputs": [
    {
     "ename": "NameError",
     "evalue": "name 'mi_tupla2' is not defined",
     "output_type": "error",
     "traceback": [
      "\u001b[1;31m---------------------------------------------------------------------------\u001b[0m",
      "\u001b[1;31mNameError\u001b[0m                                 Traceback (most recent call last)",
      "\u001b[1;32m<ipython-input-1-c3010832eef2>\u001b[0m in \u001b[0;36m<module>\u001b[1;34m\u001b[0m\n\u001b[1;32m----> 1\u001b[1;33m \u001b[0mmi_tupla2\u001b[0m\u001b[1;33m\u001b[0m\u001b[1;33m\u001b[0m\u001b[0m\n\u001b[0m\u001b[0;32m      2\u001b[0m \u001b[0mt\u001b[0m\u001b[1;33m=\u001b[0m \u001b[1;36m12345\u001b[0m\u001b[1;33m,\u001b[0m \u001b[1;36m54321\u001b[0m\u001b[1;33m,\u001b[0m \u001b[1;34m'hola!'\u001b[0m\u001b[1;33m\u001b[0m\u001b[1;33m\u001b[0m\u001b[0m\n",
      "\u001b[1;31mNameError\u001b[0m: name 'mi_tupla2' is not defined"
     ]
    }
   ],
   "source": [
    "mi_tupla2\n",
    "t= 12345, 54321, 'hola!'"
   ]
  },
  {
   "cell_type": "code",
   "execution_count": 2,
   "metadata": {},
   "outputs": [
    {
     "ename": "NameError",
     "evalue": "name 't' is not defined",
     "output_type": "error",
     "traceback": [
      "\u001b[1;31m---------------------------------------------------------------------------\u001b[0m",
      "\u001b[1;31mNameError\u001b[0m                                 Traceback (most recent call last)",
      "\u001b[1;32m<ipython-input-2-10d1d1ca5ac0>\u001b[0m in \u001b[0;36m<module>\u001b[1;34m\u001b[0m\n\u001b[0;32m      1\u001b[0m \u001b[1;31m# Las tuplas pueden anidarse:\u001b[0m\u001b[1;33m\u001b[0m\u001b[1;33m\u001b[0m\u001b[1;33m\u001b[0m\u001b[0m\n\u001b[1;32m----> 2\u001b[1;33m \u001b[0mu\u001b[0m \u001b[1;33m=\u001b[0m \u001b[0mt\u001b[0m\u001b[1;33m,\u001b[0m \u001b[1;33m(\u001b[0m\u001b[1;36m1\u001b[0m\u001b[1;33m,\u001b[0m \u001b[1;36m2\u001b[0m\u001b[1;33m,\u001b[0m \u001b[1;36m3\u001b[0m\u001b[1;33m,\u001b[0m \u001b[1;36m4\u001b[0m\u001b[1;33m,\u001b[0m \u001b[1;36m5\u001b[0m\u001b[1;33m)\u001b[0m\u001b[1;33m\u001b[0m\u001b[1;33m\u001b[0m\u001b[0m\n\u001b[0m\u001b[0;32m      3\u001b[0m \u001b[0mu\u001b[0m\u001b[1;33m\u001b[0m\u001b[1;33m\u001b[0m\u001b[0m\n",
      "\u001b[1;31mNameError\u001b[0m: name 't' is not defined"
     ]
    }
   ],
   "source": [
    "# Las tuplas pueden anidarse:\n",
    "u = t, (1, 2, 3, 4, 5)\n",
    "u"
   ]
  },
  {
   "cell_type": "code",
   "execution_count": null,
   "metadata": {},
   "outputs": [],
   "source": [
    "# Las tuplas son inmutables:\n",
    "t[0] = 88888"
   ]
  },
  {
   "cell_type": "code",
   "execution_count": null,
   "metadata": {},
   "outputs": [],
   "source": [
    "# pero pueden contener objetos mutables:\n",
    "v = ([1, 2, 3], [3, 2, 1])\n",
    "v"
   ]
  },
  {
   "cell_type": "code",
   "execution_count": null,
   "metadata": {},
   "outputs": [],
   "source": [
    "# y ser modificados\n",
    "v[0][1]=4\n",
    "v"
   ]
  },
  {
   "cell_type": "markdown",
   "metadata": {},
   "source": [
    "Como puedes ver, en la salida las tuplas siempre se encierran entre paréntesis, para que las tuplas anidadas puedan interpretarse correctamente; pueden ingresarse con o sin paréntesis, aunque a menudo los paréntesis son necesarios de todas formas (si la tupla es parte de una expresión más grande).\n",
    "\n",
    "No es posible asignar a los ítems individuales de una tupla, pero sin embargo sí se puede crear tuplas que contengan objetos mutables, como las listas.\n",
    "\n",
    "A pesar de que las tuplas puedan parecerse a las listas, frecuentemente se utilizan en distintas situaciones y para distintos propósitos. Las tuplas son inmutables y normalmente contienen una secuencia heterogénea de elementos que son accedidos al desempaquetar (ver más adelante en esta sección) o indexados (o incluso acceder por atributo en el caso de las <b>namedtuples</b>). Las listas son mutables, y sus elementos son normalmente homogéneos y se acceden iterando a la lista.\n",
    "\n",
    "Un problema particular es la construcción de tuplas que contengan 0 o 1 ítem: la sintaxis presenta algunas peculiaridades para estos casos. Las tuplas vacías se construyen mediante un par de paréntesis vacío; una tupla con un ítem se construye poniendo una coma a continuación del valor (no alcanza con encerrar un único valor entre paréntesis). Nada agradeble, pero efectivo. Por ejemplo:"
   ]
  },
  {
   "cell_type": "code",
   "execution_count": null,
   "metadata": {},
   "outputs": [],
   "source": [
    "vacia = ()\n",
    "singleton = 'hola',    # <-- notar la coma al final"
   ]
  },
  {
   "cell_type": "code",
   "execution_count": null,
   "metadata": {},
   "outputs": [],
   "source": [
    "len(vacia)"
   ]
  },
  {
   "cell_type": "code",
   "execution_count": null,
   "metadata": {},
   "outputs": [],
   "source": [
    "len(singleton)"
   ]
  },
  {
   "cell_type": "code",
   "execution_count": null,
   "metadata": {},
   "outputs": [],
   "source": [
    "singleton"
   ]
  },
  {
   "cell_type": "markdown",
   "metadata": {},
   "source": [
    "La declaración t = 12345, 54321, 'hola!' es un ejemplo de empaquetado de tuplas: los valores 12345, 54321 y 'hola!' se empaquetan juntos en una tupla\n",
    "\n",
    "La operación inversa también es posible:"
   ]
  },
  {
   "cell_type": "code",
   "execution_count": 3,
   "metadata": {},
   "outputs": [
    {
     "ename": "NameError",
     "evalue": "name 't' is not defined",
     "output_type": "error",
     "traceback": [
      "\u001b[1;31m---------------------------------------------------------------------------\u001b[0m",
      "\u001b[1;31mNameError\u001b[0m                                 Traceback (most recent call last)",
      "\u001b[1;32m<ipython-input-3-3941e0efbbc0>\u001b[0m in \u001b[0;36m<module>\u001b[1;34m\u001b[0m\n\u001b[1;32m----> 1\u001b[1;33m \u001b[0mlen\u001b[0m\u001b[1;33m(\u001b[0m\u001b[0mt\u001b[0m\u001b[1;33m)\u001b[0m\u001b[1;33m\u001b[0m\u001b[1;33m\u001b[0m\u001b[0m\n\u001b[0m",
      "\u001b[1;31mNameError\u001b[0m: name 't' is not defined"
     ]
    }
   ],
   "source": [
    "len(t)\n",
    "#no modificad o dentro de la tupla t"
   ]
  },
  {
   "cell_type": "code",
   "execution_count": null,
   "metadata": {},
   "outputs": [],
   "source": [
    "x, y, z = t\n",
    "print(x,y,z,sep=\"\\n\")"
   ]
  },
  {
   "cell_type": "markdown",
   "metadata": {},
   "source": [
    "Esto se llama, apropiadamente, desempaquetado de secuencias, y funciona para cualquier secuencia en el lado derecho del igual. El desempaquetado de secuencias requiere que la cantidad de variables a la izquierda del signo igual sea el tamaño de la secuencia. Notá que la asignación múltiple es en realidad sólo una combinación de empaquetado de tuplas y desempaquetado de secuencias."
   ]
  },
  {
   "cell_type": "markdown",
   "metadata": {},
   "source": [
    "Aqui terminamos de apresentar os tipos de dados básicos embutidos no Python. Vamos relembrar:<BR>\n",
    "    Listas  - Ex: lista=[4,5,\"cachorro\"]  <BR>\n",
    "    Dicionários - Ex: dic = {nome:\"Fulano de Tal\",\"idade\":41,\"peso\":80}  <BR>\n",
    "    Conjuntos - Ex: conjunto = {4,5,10}  <BR>\n",
    "    Tuplas = Ex: minha_tupla = (10,20) <BR>\n",
    "             outra_tupla = (\"Campinas\",\"Brasília\")<BR>"
   ]
  },
  {
   "cell_type": "markdown",
   "metadata": {},
   "source": [
    "### Ejercicio 1:\n",
    "Escribir un programa que almacene las asignaturas de su semestre (por ejemplo Sistemas Operativos, Redes de Computadores, Programación Avanzada, Certificación Python) en una tupla y la muestre por pantalla el mensaje \"Yo estudio la <asignatura>\", donde <asignatura> es cada una de las asignaturas de la tupla."
   ]
  },
  {
   "cell_type": "code",
   "execution_count": 4,
   "metadata": {},
   "outputs": [
    {
     "name": "stdout",
     "output_type": "stream",
     "text": [
      "Yo estudio la asignatura de Sistemas Operativos\n",
      "Yo estudio la asignatura de Redes de Computadores\n",
      "Yo estudio la asignatura de Programación Avanzada\n",
      "Yo estudio la asignatura de Certificación Python\n"
     ]
    }
   ],
   "source": [
    "asignaturas=(\"Sistemas Operativos\", \"Redes de Computadores\", \"Programación Avanzada\", \"Certificación Python\")\n",
    "for asi in asignaturas:\n",
    "    print(\"Yo estudio la asignatura de\",asi )"
   ]
  },
  {
   "cell_type": "markdown",
   "metadata": {},
   "source": [
    "### Ejercicio 2:\n",
    "Escribir un programa que pregunte al usuario los números ganadores de la lotería, los almacene en una tupla y los muestre por pantalla ordenados de menor a mayor."
   ]
  },
  {
   "cell_type": "code",
   "execution_count": 9,
   "metadata": {},
   "outputs": [
    {
     "name": "stdout",
     "output_type": "stream",
     "text": [
      "Ganadores de la loteria\n",
      "Numero de loteria: 1\n",
      "Numero de loteria: 2\n",
      "Numero de loteria: 3\n",
      "Numero de loteria: 4\n",
      "Numero de loteria: 5\n",
      "Numero de loteria: 6\n",
      "(1, 2, 3, 4, 5, 6)\n"
     ]
    }
   ],
   "source": [
    "print(\"Ganadores de la loteria\")\n",
    "t=()\n",
    "l=[]\n",
    "for i in range(1,7):\n",
    "    num= int(input(\"Numero de loteria: \"))\n",
    "    l.append(num)\n",
    "    #aux=(num,)\n",
    "    #t=(*aux,t)\n",
    "t=tuple(sorted(l))\n",
    "print(t)"
   ]
  },
  {
   "cell_type": "markdown",
   "metadata": {},
   "source": [
    "### Ejercicio 3:\n",
    "Escribir un programa que almacene en una tupla los siguientes precios, 50, 75, 46, 22, 80, 65, 8, y muestre por pantalla el menor y el mayor de los precios."
   ]
  },
  {
   "cell_type": "code",
   "execution_count": 11,
   "metadata": {},
   "outputs": [
    {
     "name": "stdout",
     "output_type": "stream",
     "text": [
      "80\n",
      "8\n",
      "El mayor 80 el menors 8\n"
     ]
    }
   ],
   "source": [
    "precios=(50, 75, 46, 22, 80, 65, 8)\n",
    "listatu=[]\n",
    "for i in precios:\n",
    "    listatu.append(i)\n",
    "print(max(listatu))\n",
    "print(min(listatu))\n",
    "print(\"El mayor\", max(precios), \"el menors\",min(precios))"
   ]
  },
  {
   "cell_type": "markdown",
   "metadata": {},
   "source": [
    "### Ejercicio 4:\n",
    "Ingrese la cantidad de elementos aleatorios del 1 al 10 que ingresarán a la tupla y imprimela."
   ]
  },
  {
   "cell_type": "code",
   "execution_count": null,
   "metadata": {},
   "outputs": [],
   "source": [
    "\n"
   ]
  },
  {
   "cell_type": "markdown",
   "metadata": {},
   "source": [
    "### Ejercicio 5:\n",
    "Crea una tupla con los meses del año, pide números al usuario, si el numero esta entre 1 y la longitud máxima de la tupla, muestra el contenido de esa posición sino muestra un mensaje de error.\n",
    "\n",
    "El programa termina cuando el usuario introduce un cero."
   ]
  },
  {
   "cell_type": "code",
   "execution_count": null,
   "metadata": {},
   "outputs": [],
   "source": [
    "# Escriba el código aqui\n"
   ]
  },
  {
   "cell_type": "markdown",
   "metadata": {},
   "source": [
    "# 4.2 Conjuntos (sets)"
   ]
  },
  {
   "cell_type": "markdown",
   "metadata": {},
   "source": [
    "Python también incluye un tipo de dato para conjuntos (matemáticos). Un conjunto es una colección no ordenada y sin elementos repetidos (no duplicados). Los usos básicos de éstos incluyen verificación de pertenencia y eliminación de entradas duplicadas. Los conjuntos también soportan operaciones matemáticas como la unión, intersección, diferencia, y diferencia simétrica.\n",
    "\n",
    "Los elementos de un conjunto no pueden ser accedidos individualmente como una lista o diccionario. Las llaves \"{\" y \"}\"o la función set() pueden usarse para crear conjuntos. Notá que para crear un conjunto vacío tenés que usar set(), no {}; esto último crea un diccionario vacío, una estructura de datos que discutiremos en la sección siguiente."
   ]
  },
  {
   "cell_type": "code",
   "execution_count": 12,
   "metadata": {},
   "outputs": [
    {
     "name": "stdout",
     "output_type": "stream",
     "text": [
      "{1, 2, 3}\n",
      "{2, 3, 5}\n"
     ]
    }
   ],
   "source": [
    "#Podemos definir un conjunto de dos formas\n",
    "set1 = set([1,2,3]) #usando el método set para definir un conjunto a partir de una lista\n",
    "set2 = {2,3,5}  #o directamente, entre llaves con los elementos separados por comas\n",
    "print(set1)\n",
    "print(set2)"
   ]
  },
  {
   "cell_type": "code",
   "execution_count": 13,
   "metadata": {},
   "outputs": [
    {
     "name": "stdout",
     "output_type": "stream",
     "text": [
      "{1, 2, 3, 5}\n"
     ]
    }
   ],
   "source": [
    "#Unión\n",
    "set3 = set1.union(set2)\n",
    "print(set3)"
   ]
  },
  {
   "cell_type": "code",
   "execution_count": 14,
   "metadata": {},
   "outputs": [
    {
     "name": "stdout",
     "output_type": "stream",
     "text": [
      "{2, 3}\n"
     ]
    }
   ],
   "source": [
    "#Intersección\n",
    "set4 = set1.intersection(set2)\n",
    "print(set4)"
   ]
  },
  {
   "cell_type": "code",
   "execution_count": 16,
   "metadata": {},
   "outputs": [
    {
     "name": "stdout",
     "output_type": "stream",
     "text": [
      "{5}\n"
     ]
    }
   ],
   "source": [
    "#Diferencia\n",
    "set5= set3.difference(set1)\n",
    "print(set5)"
   ]
  },
  {
   "cell_type": "code",
   "execution_count": 17,
   "metadata": {},
   "outputs": [
    {
     "name": "stdout",
     "output_type": "stream",
     "text": [
      "No pertenece\n"
     ]
    }
   ],
   "source": [
    "#Pertenencia\n",
    "x = 5\n",
    "if x in set1:\n",
    "    print(\"Pertenece\")\n",
    "else:\n",
    "    print(\"No pertenece\")"
   ]
  },
  {
   "cell_type": "code",
   "execution_count": 19,
   "metadata": {},
   "outputs": [
    {
     "name": "stdout",
     "output_type": "stream",
     "text": [
      "{1, 2, 3}\n",
      "{2, 3, 5}\n"
     ]
    },
    {
     "data": {
      "text/plain": [
       "True"
      ]
     },
     "execution_count": 19,
     "metadata": {},
     "output_type": "execute_result"
    }
   ],
   "source": [
    "#¿Es subconjunto?\n",
    "print(set1)\n",
    "print(set2)\n",
    "set1.issubset(set3)"
   ]
  },
  {
   "cell_type": "code",
   "execution_count": 20,
   "metadata": {},
   "outputs": [
    {
     "data": {
      "text/plain": [
       "False"
      ]
     },
     "execution_count": 20,
     "metadata": {},
     "output_type": "execute_result"
    }
   ],
   "source": [
    "#¿Es superconjunto?\n",
    "set1.issuperset(set3)"
   ]
  },
  {
   "cell_type": "code",
   "execution_count": 21,
   "metadata": {},
   "outputs": [
    {
     "data": {
      "text/plain": [
       "True"
      ]
     },
     "execution_count": 21,
     "metadata": {},
     "output_type": "execute_result"
    }
   ],
   "source": [
    "set3.issuperset(set1)"
   ]
  },
  {
   "cell_type": "code",
   "execution_count": 22,
   "metadata": {},
   "outputs": [
    {
     "name": "stdout",
     "output_type": "stream",
     "text": [
      "{'naranja', 'pera', 'banana', 'manzana'}\n"
     ]
    }
   ],
   "source": [
    "# Otros ejemplos:\n",
    "canasta = {'manzana', 'naranja', 'manzana', 'pera', 'naranja', 'banana'}\n",
    "print(canasta)"
   ]
  },
  {
   "cell_type": "code",
   "execution_count": 23,
   "metadata": {},
   "outputs": [
    {
     "data": {
      "text/plain": [
       "True"
      ]
     },
     "execution_count": 23,
     "metadata": {},
     "output_type": "execute_result"
    }
   ],
   "source": [
    "'naranja' in canasta         # verificación de pertenencia rápida"
   ]
  },
  {
   "cell_type": "code",
   "execution_count": 24,
   "metadata": {},
   "outputs": [
    {
     "data": {
      "text/plain": [
       "False"
      ]
     },
     "execution_count": 24,
     "metadata": {},
     "output_type": "execute_result"
    }
   ],
   "source": [
    "'mango' in canasta"
   ]
  },
  {
   "cell_type": "code",
   "execution_count": 25,
   "metadata": {},
   "outputs": [
    {
     "name": "stdout",
     "output_type": "stream",
     "text": [
      "{'c', 'a', 'd', 'r', 'b'}\n",
      "{'c', 'a', 'm', 'z', 'l'}\n"
     ]
    }
   ],
   "source": [
    "# veamos las operaciones para las únicas letras de dos palabras\n",
    "a = set('abracadabra')\n",
    "b = set('alacazam')\n",
    "# letras únicas en a y b\n",
    "print(a)\n",
    "print(b)"
   ]
  },
  {
   "cell_type": "code",
   "execution_count": 26,
   "metadata": {},
   "outputs": [
    {
     "data": {
      "text/plain": [
       "{'b', 'd', 'r'}"
      ]
     },
     "execution_count": 26,
     "metadata": {},
     "output_type": "execute_result"
    }
   ],
   "source": [
    "# letras en a pero no en b\n",
    "a - b"
   ]
  },
  {
   "cell_type": "code",
   "execution_count": 27,
   "metadata": {},
   "outputs": [
    {
     "data": {
      "text/plain": [
       "{'a', 'b', 'c', 'd', 'l', 'm', 'r', 'z'}"
      ]
     },
     "execution_count": 27,
     "metadata": {},
     "output_type": "execute_result"
    }
   ],
   "source": [
    "# letras en a o en b o en ambas\n",
    "a | b "
   ]
  },
  {
   "cell_type": "code",
   "execution_count": 28,
   "metadata": {},
   "outputs": [
    {
     "data": {
      "text/plain": [
       "{'a', 'c'}"
      ]
     },
     "execution_count": 28,
     "metadata": {},
     "output_type": "execute_result"
    }
   ],
   "source": [
    "# letras en a y en b\n",
    "#\n",
    "a & b"
   ]
  },
  {
   "cell_type": "code",
   "execution_count": 29,
   "metadata": {},
   "outputs": [
    {
     "data": {
      "text/plain": [
       "{'b', 'd', 'l', 'm', 'r', 'z'}"
      ]
     },
     "execution_count": 29,
     "metadata": {},
     "output_type": "execute_result"
    }
   ],
   "source": [
    "# letras en a o b pero no en ambos\n",
    "a ^ b"
   ]
  },
  {
   "cell_type": "code",
   "execution_count": 30,
   "metadata": {},
   "outputs": [
    {
     "name": "stdout",
     "output_type": "stream",
     "text": [
      "{'d', 'r'}\n"
     ]
    }
   ],
   "source": [
    "# De forma similar las list comprenhension soporta la comprensión de conjuntos:\n",
    "a = {x for x in 'abracadabra' if x not in 'abc'}\n",
    "print(a)"
   ]
  },
  {
   "cell_type": "markdown",
   "metadata": {},
   "source": [
    "### Ejercicio 6:\n",
    "Ingrese dos palabras como conjuntos. "
   ]
  },
  {
   "cell_type": "code",
   "execution_count": 16,
   "metadata": {},
   "outputs": [
    {
     "name": "stdout",
     "output_type": "stream",
     "text": [
      "ingrese palabrauno\n",
      "ingrese otra palabrados\n"
     ]
    }
   ],
   "source": [
    "pal1=set(input(\"ingrese palabra\"))\n",
    "pal2=set(input(\"ingrese otra palabra\"))\n",
    "#set10=set([\"perr\",\"csbje\",\"nvujs\"])"
   ]
  },
  {
   "cell_type": "markdown",
   "metadata": {},
   "source": [
    "### Ejercicio 7:\n",
    "Obtenga unión de ambos conjuntos en un tercer conjunto."
   ]
  },
  {
   "cell_type": "code",
   "execution_count": 17,
   "metadata": {},
   "outputs": [
    {
     "data": {
      "text/plain": [
       "{'d', 'n', 'o', 's', 'u'}"
      ]
     },
     "execution_count": 17,
     "metadata": {},
     "output_type": "execute_result"
    }
   ],
   "source": [
    "c=pal1.union(pal2)\n",
    "c"
   ]
  },
  {
   "cell_type": "markdown",
   "metadata": {},
   "source": [
    "### Ejercicio 8:\n",
    "Obtenga la intersección de ambos conjuntos en otro conjunto."
   ]
  },
  {
   "cell_type": "code",
   "execution_count": 19,
   "metadata": {},
   "outputs": [
    {
     "data": {
      "text/plain": [
       "{'o'}"
      ]
     },
     "execution_count": 19,
     "metadata": {},
     "output_type": "execute_result"
    }
   ],
   "source": [
    "nuevocon=pal1.intersection(pal2)\n",
    "nuevocon"
   ]
  },
  {
   "cell_type": "markdown",
   "metadata": {},
   "source": [
    "### Ejercicio 9:\n",
    "Obtenga la diferencia de ambos conjuntos en otro conjunto."
   ]
  },
  {
   "cell_type": "code",
   "execution_count": 21,
   "metadata": {},
   "outputs": [
    {
     "data": {
      "text/plain": [
       "{'n', 'u'}"
      ]
     },
     "execution_count": 21,
     "metadata": {},
     "output_type": "execute_result"
    }
   ],
   "source": [
    "dif=pal1.difference(pal2)\n",
    "dif"
   ]
  },
  {
   "cell_type": "markdown",
   "metadata": {},
   "source": [
    "### Ejercicio 10:\n",
    "Verifique si un elemento pertenece a conjunto 1 o 2."
   ]
  },
  {
   "cell_type": "code",
   "execution_count": 23,
   "metadata": {},
   "outputs": [
    {
     "name": "stdout",
     "output_type": "stream",
     "text": [
      "Introducir el elemento que desea buscar: u\n",
      "Pertenece\n"
     ]
    }
   ],
   "source": [
    "elemento=input(\"Introducir el elemento que desea buscar: \")\n",
    "if elemento in pal1 or elemento in pal2:\n",
    "    print(\"Pertenece\")\n",
    "else:\n",
    "    print(\"No Pertenece\")\n"
   ]
  },
  {
   "cell_type": "markdown",
   "metadata": {},
   "source": [
    "# 4.3 Diccionarios"
   ]
  },
  {
   "cell_type": "markdown",
   "metadata": {},
   "source": [
    "Otro tipo de dato útil incluído en Python es el diccionario. Diccionario (dict) es una estructura de datos en Python, la cual es usada para mapear un conjunto de objetos denominados claves (keys) a un conjunto de objetos denominados valores (values). Las claves pueden ser números o cadenas (strings). Ya los valores pueden ser objetos de cualquier tipo: número, cadenas (strings), listas (usadas en Django), tuplas, otros diccionarios (usados en Django), etc.\n",
    "\n",
    "A diferencia de una lista, en que los índices de elementos son números enteros consecutivos, un diccionario puede tener claves (índices) del tipo string y numéricos. Por definición, diccionarios no son ordenados, aunque podemos usar métodos para iterar sobre estos usando algun orden defindo. Es posible eliminar elementos {clave:valor} de un diccionario. También es posible crear nuevas claves en tiempo de ejecución y cambiar sus valores.\n",
    "\n",
    "Lo mejor es pensar en un diccionario como un conjunto no ordenado de pares {clave: valor}, con el requerimiento de que las claves sean únicas (dentro de un diccionario en particular). Un par de llaves crean un diccionario vacío: {}. Los elementos de un diccionario son accesados usando la misma notación que usamos para acceder a los elementos de una lista (entre corchetes \"[\" y \"]\").\n",
    "\n",
    "Las operaciones principales sobre un diccionario son guardar un valor con una clave y extraer ese valor dada la clave. También es posible borrar un par {clave:valor} con <b>del</b>. Si usás una clave que ya está en uso para guardar un valor, el valor que estaba asociado con esa clave se pierde. Usar una clave no existente genera un error.\n",
    "\n",
    "Hacer <b>list(d.keys())</b> en un diccionario devuelve una lista de todas las claves usadas en el diccionario, en un orden arbitrario (si las queremos ordenadas, usá en cambio <b>sorted(d.keys())</b>. Para verificar si una clave está en el diccionario, usá el <b>in</b>.\n",
    "\n",
    "<b>Importante:</b>\n",
    "\n",
    "No todos los lenguajes de programación disponen estructuras semejantes a diccionarios. Es más común en lenguajes interpretados tales como Perl (donde son llamados de hashes) y Javascript. Los diccionarios proporcionan gran flexibilidad al programador para construir programas más concisos, sin embargo, el precio de usar esta gran flexibilidad es el mayor uso de la memoria RAM (del necesario) para almacenar los datos en una lista y por consiguiente el uso de mayores recursos computacionales.\n",
    "\n",
    "Un pequeño ejemplo de uso de un diccionario:"
   ]
  },
  {
   "cell_type": "code",
   "execution_count": 2,
   "metadata": {},
   "outputs": [
    {
     "data": {
      "text/plain": [
       "{'jack': 4098, 'sape': 4139, 'guido': 4127}"
      ]
     },
     "execution_count": 2,
     "metadata": {},
     "output_type": "execute_result"
    }
   ],
   "source": [
    "tel = {'jack': 4098, 'sape': 4139}\n",
    "tel['guido'] = 4127\n",
    "tel"
   ]
  },
  {
   "cell_type": "code",
   "execution_count": 4,
   "metadata": {},
   "outputs": [
    {
     "data": {
      "text/plain": [
       "{'jack': 4098, 'sape': 4139, 'guido': 4127}"
      ]
     },
     "execution_count": 4,
     "metadata": {},
     "output_type": "execute_result"
    }
   ],
   "source": [
    "tel['jack']\n",
    "tel"
   ]
  },
  {
   "cell_type": "code",
   "execution_count": null,
   "metadata": {},
   "outputs": [],
   "source": [
    "del tel['sape']\n",
    "tel['irv'] = 4127\n",
    "tel"
   ]
  },
  {
   "cell_type": "code",
   "execution_count": 5,
   "metadata": {},
   "outputs": [
    {
     "data": {
      "text/plain": [
       "['jack', 'sape', 'guido']"
      ]
     },
     "execution_count": 5,
     "metadata": {},
     "output_type": "execute_result"
    }
   ],
   "source": [
    "list(tel.keys())"
   ]
  },
  {
   "cell_type": "code",
   "execution_count": 6,
   "metadata": {},
   "outputs": [
    {
     "data": {
      "text/plain": [
       "['guido', 'jack', 'sape']"
      ]
     },
     "execution_count": 6,
     "metadata": {},
     "output_type": "execute_result"
    }
   ],
   "source": [
    "sorted(tel.keys())"
   ]
  },
  {
   "cell_type": "code",
   "execution_count": 7,
   "metadata": {},
   "outputs": [
    {
     "data": {
      "text/plain": [
       "True"
      ]
     },
     "execution_count": 7,
     "metadata": {},
     "output_type": "execute_result"
    }
   ],
   "source": [
    "'guido' in tel"
   ]
  },
  {
   "cell_type": "code",
   "execution_count": 8,
   "metadata": {},
   "outputs": [
    {
     "data": {
      "text/plain": [
       "False"
      ]
     },
     "execution_count": 8,
     "metadata": {},
     "output_type": "execute_result"
    }
   ],
   "source": [
    "'jack' not in tel"
   ]
  },
  {
   "cell_type": "markdown",
   "metadata": {},
   "source": [
    "El constructor dict() crea un diccionario directamente desde secuencias de pares clave-valor:"
   ]
  },
  {
   "cell_type": "code",
   "execution_count": 9,
   "metadata": {},
   "outputs": [
    {
     "data": {
      "text/plain": [
       "{'Camila': 4139, 'Martin': 4127, 'Sara': 4098}"
      ]
     },
     "execution_count": 9,
     "metadata": {},
     "output_type": "execute_result"
    }
   ],
   "source": [
    "dict([('Camila', 4139), ('Martin', 4127), ('Sara', 4098)])"
   ]
  },
  {
   "cell_type": "markdown",
   "metadata": {},
   "source": [
    "Además, las comprensiones de diccionarios se pueden usar para crear diccionarios desde expresiones arbitrarias de clave y valor:"
   ]
  },
  {
   "cell_type": "code",
   "execution_count": 10,
   "metadata": {},
   "outputs": [
    {
     "data": {
      "text/plain": [
       "{2: 4, 4: 16, 6: 36}"
      ]
     },
     "execution_count": 10,
     "metadata": {},
     "output_type": "execute_result"
    }
   ],
   "source": [
    "{x: x ** 2 for x in (2, 4, 6)}"
   ]
  },
  {
   "cell_type": "markdown",
   "metadata": {},
   "source": [
    "Cuando las claves son cadenas simples, a veces resulta más fácil especificar los pares usando argumentos por palabra clave:"
   ]
  },
  {
   "cell_type": "code",
   "execution_count": 11,
   "metadata": {},
   "outputs": [
    {
     "data": {
      "text/plain": [
       "{'sape': 4139, 'guido': 4127, 'jack': 4098}"
      ]
     },
     "execution_count": 11,
     "metadata": {},
     "output_type": "execute_result"
    }
   ],
   "source": [
    "dict(sape=4139, guido=4127, jack=4098)"
   ]
  },
  {
   "cell_type": "code",
   "execution_count": 13,
   "metadata": {},
   "outputs": [
    {
     "data": {
      "text/plain": [
       "{'enero': 31,\n",
       " 'febrero': 28,\n",
       " 'marzo': 31,\n",
       " 'abril': 30,\n",
       " 'mayo': 31,\n",
       " 'junio': 30,\n",
       " 'julio': 31,\n",
       " 'agosto': 31,\n",
       " 'septiembre': 30,\n",
       " 'octubre': 31,\n",
       " 'noviembre': 30,\n",
       " 'diciembre': 31}"
      ]
     },
     "execution_count": 13,
     "metadata": {},
     "output_type": "execute_result"
    }
   ],
   "source": [
    "#Otro ejemplo de diccionario en Python\n",
    "#Un diccionario funciona como una lista (vector o array en otros lenguajes), \n",
    "# así los elementos pueden ser recuperados por índices no numéricos (Ex: strings)\n",
    "meses2dias = {'enero': 31, 'febrero': 28, 'marzo': 31, 'abril': 30,\n",
    "              'mayo': 31, 'junio': 30, 'julio': 31, 'agosto': 31,\n",
    "              'septiembre': 30, 'octubre': 31, 'noviembre': 30, 'diciembre': 31}\n",
    "meses2dias"
   ]
  },
  {
   "cell_type": "code",
   "execution_count": 14,
   "metadata": {},
   "outputs": [
    {
     "data": {
      "text/plain": [
       "28"
      ]
     },
     "execution_count": 14,
     "metadata": {},
     "output_type": "execute_result"
    }
   ],
   "source": [
    "meses2dias['febrero']"
   ]
  },
  {
   "cell_type": "code",
   "execution_count": 15,
   "metadata": {},
   "outputs": [],
   "source": [
    "ano=2020"
   ]
  },
  {
   "cell_type": "code",
   "execution_count": 16,
   "metadata": {},
   "outputs": [],
   "source": [
    "#Se el año fuera bisiesto, entonces cambiamos el valor de meses2dias[febrero] para 29\n",
    "if (ano % 4 == 0 and not ano % 100 == 0) or (ano % 400 == 0):\n",
    "    meses2dias['febrero']=29"
   ]
  },
  {
   "cell_type": "code",
   "execution_count": 17,
   "metadata": {
    "scrolled": true
   },
   "outputs": [
    {
     "data": {
      "text/plain": [
       "29"
      ]
     },
     "execution_count": 17,
     "metadata": {},
     "output_type": "execute_result"
    }
   ],
   "source": [
    "meses2dias['febrero']"
   ]
  },
  {
   "cell_type": "markdown",
   "metadata": {},
   "source": [
    "Creando un diccionario vacio:"
   ]
  },
  {
   "cell_type": "code",
   "execution_count": 18,
   "metadata": {},
   "outputs": [],
   "source": [
    "# diccionario vacio:\n",
    "my_dict = {}"
   ]
  },
  {
   "cell_type": "code",
   "execution_count": 19,
   "metadata": {},
   "outputs": [
    {
     "name": "stdout",
     "output_type": "stream",
     "text": [
      "{1: 'manzana', 2: 'naranja'}\n",
      "{'nombre': 'Ana', 1: [2, 4, 3]}\n",
      "{1: 'goiaba', 2: 'sandia'}\n"
     ]
    }
   ],
   "source": [
    "# diccionario con claves numéricas (enteros)\n",
    "my_dict1 = {1: 'manzana', 2: 'naranja'}\n",
    "\n",
    "# diccionario com mezclas de claves string y numéricas.\n",
    "# Observe que los valores también pueden ser listas\n",
    "my_dict2 = {'nombre': 'Ana', 1: [2, 4, 3]}\n",
    "\n",
    "# creando un diccionario a partir de una lista de tuplas de llaves, valor con el método dict\n",
    "my_dict3 = dict([(1,'goiaba'), (2,'sandia')])\n",
    "print(my_dict1)\n",
    "print(my_dict2)\n",
    "print(my_dict3)"
   ]
  },
  {
   "cell_type": "code",
   "execution_count": 23,
   "metadata": {},
   "outputs": [
    {
     "name": "stdout",
     "output_type": "stream",
     "text": [
      "['nombre', 1]\n"
     ]
    }
   ],
   "source": [
    "#Creando lista con todas las claves de un diccionario\n",
    "meses=list(my_dict2.keys())\n",
    "print(meses)"
   ]
  },
  {
   "cell_type": "code",
   "execution_count": 21,
   "metadata": {},
   "outputs": [
    {
     "name": "stdout",
     "output_type": "stream",
     "text": [
      "[31, 29, 31, 30, 31, 30, 31, 31, 30, 31, 30, 31]\n"
     ]
    }
   ],
   "source": [
    "#Creando una lista con todos los valores de un diccionario\n",
    "dias=list(meses2dias.values())\n",
    "print(dias)"
   ]
  },
  {
   "cell_type": "code",
   "execution_count": 22,
   "metadata": {},
   "outputs": [
    {
     "data": {
      "text/plain": [
       "['enero', 'marzo', 'mayo', 'julio', 'agosto', 'octubre', 'diciembre']"
      ]
     },
     "execution_count": 22,
     "metadata": {},
     "output_type": "execute_result"
    }
   ],
   "source": [
    "#Lista de meses con 31 dias usando list comprehension\n",
    "meses_de_31 = [m for m in meses if meses2dias[m]==31]\n",
    "meses_de_31"
   ]
  },
  {
   "cell_type": "code",
   "execution_count": null,
   "metadata": {},
   "outputs": [],
   "source": [
    "#Iterando por todas las claves de un diccionario en un for\n",
    "for x in meses2dias:\n",
    "    print(x)"
   ]
  },
  {
   "cell_type": "code",
   "execution_count": null,
   "metadata": {},
   "outputs": [],
   "source": [
    "#Podemos también usar los valores de un diccionario en un bucle for\n",
    "for x in meses2dias:\n",
    "    print(f\"{x} tiene {meses2dias[x]} días\")"
   ]
  },
  {
   "cell_type": "code",
   "execution_count": null,
   "metadata": {},
   "outputs": [],
   "source": [
    "#También podemos obtener claves y valores simultaneamente \n",
    "# en la declaración for usando el método .items()\n",
    "for m,d in meses2dias.items():\n",
    "    print(f\"{m} tiene {d} días\")"
   ]
  },
  {
   "cell_type": "code",
   "execution_count": null,
   "metadata": {},
   "outputs": [],
   "source": [
    "#Es posible eliminar (deletar) una clave de un diccionario. Vamos eliminar el mes de agosto.\n",
    "del(meses2dias[\"agosto\"])\n",
    "print(meses2dias)"
   ]
  },
  {
   "cell_type": "code",
   "execution_count": null,
   "metadata": {},
   "outputs": [],
   "source": [
    "#Al adicionar nuevamente el mes de agosto. ¿Este será adicionado al final del diccionario?\n",
    "meses2dias[\"agosto\"]=31\n",
    "print(meses2dias)"
   ]
  },
  {
   "cell_type": "markdown",
   "metadata": {},
   "source": [
    "Sin embargo, no existe una orden definida para los elementos de un diccionario. Es una estructura intrínsecamente desordanada.\n",
    "\n",
    "No tenemos control sobre el orden en que los elementos son mostrados en un print.\n",
    "\n",
    "Como observamos el mes de agosto se muestra al final."
   ]
  },
  {
   "cell_type": "code",
   "execution_count": null,
   "metadata": {},
   "outputs": [],
   "source": [
    "#El método len puede ser usado para retornar el número de elementos de un diccionario.\n",
    "len(meses2dias)"
   ]
  },
  {
   "cell_type": "code",
   "execution_count": null,
   "metadata": {},
   "outputs": [],
   "source": [
    "#Podemos usar el método del para eliminar todo el dicionário de una vez\n",
    "print(my_dict1)"
   ]
  },
  {
   "cell_type": "code",
   "execution_count": null,
   "metadata": {},
   "outputs": [],
   "source": [
    "#Eliminando el diccionario\n",
    "del(my_dict1)"
   ]
  },
  {
   "cell_type": "code",
   "execution_count": null,
   "metadata": {},
   "outputs": [],
   "source": [
    "#Verificamos la existencia del diccionario\n",
    "print(my_dict1)"
   ]
  },
  {
   "cell_type": "code",
   "execution_count": null,
   "metadata": {},
   "outputs": [],
   "source": [
    "#Arriba definimos un diccionario llamado my_dict2 = {'nombre': 'Ana', 1: [2, 4, 3]}.\n",
    "# Vamos acceder a sus valores:\n",
    "my_dict2 = {'nombre': 'Ana', 1: [2, 4, 3]}\n",
    "print(\"Llave nombre: \", my_dict2[\"nombre\"])\n",
    "print(\"Llave 1: \", my_dict2[1])\n",
    "#Primer elemento de la lista contida en la llave 1\n",
    "print(\"Llave 1 - 1o. elemento de la lista: \", my_dict2[1][0])\n"
   ]
  },
  {
   "cell_type": "code",
   "execution_count": null,
   "metadata": {},
   "outputs": [],
   "source": [
    "my_dict2[1][2]=1000\n",
    "print(my_dict2)"
   ]
  },
  {
   "cell_type": "code",
   "execution_count": null,
   "metadata": {},
   "outputs": [],
   "source": [
    "del(my_dict2[1])\n",
    "print(my_dict2)"
   ]
  },
  {
   "cell_type": "code",
   "execution_count": null,
   "metadata": {},
   "outputs": [],
   "source": [
    "#Al eliminar la última clave, resulta en un diccionario vacio.\n",
    "del(my_dict2[\"nombre\"])\n",
    "print(my_dict2)"
   ]
  },
  {
   "cell_type": "code",
   "execution_count": null,
   "metadata": {},
   "outputs": [],
   "source": [
    "#Al eliminar el diccionario e intentar ingresar a sus elementos, obtendremos un error.\n",
    "del(my_dict2)\n",
    "print(my_dict2)"
   ]
  },
  {
   "cell_type": "markdown",
   "metadata": {},
   "source": [
    "### Ejercicio 11:\n",
    "Escribir un programa que guarde en una variable el diccionario {'Euro':'€', 'Dollar':'$', 'Yen':'¥'}, pregunte al usuario por una divisa y muestre su símbolo o un mensaje de aviso si la divisa no está en el diccionario."
   ]
  },
  {
   "cell_type": "code",
   "execution_count": 37,
   "metadata": {},
   "outputs": [
    {
     "name": "stdout",
     "output_type": "stream",
     "text": [
      "Ingrese una divisa: yen\n",
      "El simbolo de la divisa es: ¥\n"
     ]
    }
   ],
   "source": [
    "divisas={\"EURO\":\"€\",\"DOLLAR\":\"$\",\"YEN\":\"¥\"}\n",
    "pre=input(\"Ingrese una divisa: \")\n",
    "pre=pre.upper()\n",
    "if pre in divisas:\n",
    "    sim=divisas[pre]\n",
    "    print(f\"El simbolo de la divisa es: {sim}\")\n",
    "else:\n",
    "    print(f\"La divisa no esta ne el diccionario\")\n",
    "\n"
   ]
  },
  {
   "cell_type": "markdown",
   "metadata": {},
   "source": [
    "### Ejercicio 12:\n",
    "\n",
    "Escribir un programa que pregunte al usuario su nombre, edad, dirección y teléfono y lo guarde en un diccionario. Después debe mostrar por pantalla el mensaje <nombre> tiene <edad> años, vive en <dirección> y su número de teléfono es <teléfono>."
   ]
  },
  {
   "cell_type": "code",
   "execution_count": 45,
   "metadata": {},
   "outputs": [
    {
     "name": "stdout",
     "output_type": "stream",
     "text": [
      "Ingrese su nombre: vivian\n",
      "Ingrese su edad: 21\n",
      "Ingrese su direcion: villa victoria\n",
      "Ingrese su telefono: 75272619\n",
      "vivian tiene 21, vive en villa victoria y su nuemro es 75272619\n"
     ]
    }
   ],
   "source": [
    "dic={\"nombre\":\"\",\"edad\":0,\"direcion\":\"\",\"telefono\":0}\n",
    "for p in dic:\n",
    "    lp=input(f\"Ingrese su {p}: \")\n",
    "    dic[p]=lp\n",
    "n=dic[\"nombre\"]\n",
    "e=dic[\"edad\"]\n",
    "d=dic[\"direcion\"]\n",
    "t=dic[\"telefono\"]\n",
    "print(f\"{n} tiene {e} años, vive en {d} y su nuemro es {t}\")"
   ]
  },
  {
   "cell_type": "markdown",
   "metadata": {},
   "source": [
    "### Ejercicio 13:\n",
    "Escribir un programa que guarde en un diccionario los precios de las frutas de la tabla, pregunte al usuario por una fruta, un número de kilos y muestre por pantalla el precio de ese número de kilos de fruta. Si la fruta no está en el diccionario debe mostrar un mensaje informando de ello.\n",
    "\n",
    "|Fruta|Precio|\n",
    "|:------|:------|\n",
    "|Plátano | 1.35 |\n",
    "|Manzana | 0.80 |\n",
    "| Pera | 0.85 |\n",
    "| Naranja | 0.70 |"
   ]
  },
  {
   "cell_type": "code",
   "execution_count": 3,
   "metadata": {},
   "outputs": [
    {
     "name": "stdout",
     "output_type": "stream",
     "text": [
      "Ingrese una fruta: naranja\n",
      "Ingrese numero de kilos: 543\n",
      "El precio de NARANJA por 543 kilos es: 380.09999999999997\n"
     ]
    }
   ],
   "source": [
    "divisas={\"PLATANO\":1.35,\"MANZANA\":0.80,\"PERA\":0.85,\"NARANJA\":0.70}\n",
    "pre=input(\"Ingrese una fruta: \")\n",
    "k=int(input(\"Ingrese numero de kilos: \"))\n",
    "pre=pre.upper()\n",
    "if pre in divisas:\n",
    "    sim=divisas[pre]\n",
    "    print(f\"El precio de la fruta {pre} por {k} kilos es: {sim*k}\")\n",
    "else:\n",
    "    print(f\"La fruta no exite en el diccionario\")\n"
   ]
  },
  {
   "cell_type": "markdown",
   "metadata": {},
   "source": [
    "### Ejercicio 14:\n",
    "Escribir un programa que cree un diccionario vacío y lo vaya llenado con información sobre una persona (por ejemplo nombre, edad, sexo, teléfono, correo electrónico, etc.) que se le pida al usuario. Cada vez que se añada un nuevo dato debe imprimirse el contenido del diccionario."
   ]
  },
  {
   "cell_type": "code",
   "execution_count": 5,
   "metadata": {},
   "outputs": [
    {
     "name": "stdout",
     "output_type": "stream",
     "text": [
      "Introducir que dato que quiere anñadir: nombre\n",
      "Introducir nombre: vivian\n",
      "{'nombre': 'vivian'}\n",
      "Introducir que dato que quiere anñadir: edad\n",
      "Introducir edad: 21\n",
      "{'nombre': 'vivian', 'edad': '21'}\n",
      "Introducir que dato que quiere anñadir: sexo\n",
      "Introducir sexo: femenino\n",
      "{'nombre': 'vivian', 'edad': '21', 'sexo': 'femenino'}\n",
      "Introducir que dato que quiere anñadir: ninguno\n"
     ]
    }
   ],
   "source": [
    "datos = {}\n",
    "while True:\n",
    "    key = input(\"Introducir que dato que quiere añadir o ninguno: \")\n",
    "    if key==\"ninguno\":\n",
    "        break\n",
    "    else:\n",
    "        value = input(f\"Introducir {key}: \")\n",
    "        datos[key] = value\n",
    "        print(datos)"
   ]
  },
  {
   "cell_type": "markdown",
   "metadata": {},
   "source": [
    "### Ejercicio 15:\n",
    "Escribir un programa que cree un diccionario simulando una cesta de la compra. El programa debe preguntar el artículo y su precio y añadir el par al diccionario, hasta que el usuario decida terminar. Después se debe mostrar por pantalla la lista de la compra y el coste total, con el siguiente formato.\n",
    "\n",
    "|Lista de la compra||\n",
    "|:------|:------|\n",
    "|Artículo 1 | Precio |\n",
    "|Artículo 2 | Precio |\n",
    "|Artículo 3 | Precio |\n",
    "|… | … |\n",
    "|Total | Coste |"
   ]
  },
  {
   "cell_type": "code",
   "execution_count": 12,
   "metadata": {},
   "outputs": [
    {
     "name": "stdout",
     "output_type": "stream",
     "text": [
      "Introducir el nombre del articulo o terminar: sdfg\n",
      "Introducir el precio del articulo sdfg: 3245\n",
      "Introducir el nombre del articulo o terminar: gds\n",
      "Introducir el precio del articulo gds: 324\n",
      "Introducir el nombre del articulo o terminar: terminar\n",
      "Lista de la compra\n",
      "Articulo: sdfg , precio: 3245\n",
      "Articulo: gds , precio: 324\n",
      "Costo total: 3569\n"
     ]
    }
   ],
   "source": [
    "canasta = {}\n",
    "while True:\n",
    "    key = input(\"Introducir el nombre del articulo o terminar: \")\n",
    "    if key==\"terminar\":\n",
    "        break\n",
    "    else:\n",
    "        value = int(input(f\"Introducir el precio del articulo {key}: \"))\n",
    "        canasta[key] = value\n",
    "costo = 0\n",
    "print('Lista de la compra')\n",
    "for item, price in canasta.items():\n",
    "    print(\"Articulo:\",item,\", precio:\",price)\n",
    "    costo+=price\n",
    "print('Costo total:',costo)\n"
   ]
  },
  {
   "cell_type": "markdown",
   "metadata": {},
   "source": [
    "# 4.4 Técnicas de Iteración\n",
    "\n",
    "Cuando iteramos sobre diccionarios, se pueden obtener al mismo tiempo la clave y su valor correspondiente usando el método items()."
   ]
  },
  {
   "cell_type": "code",
   "execution_count": null,
   "metadata": {},
   "outputs": [],
   "source": [
    "caballeros = {'gallahad': 'el puro', 'robin': 'el valiente'}\n",
    "for k, v in caballeros.items():\n",
    "    print(k, v)"
   ]
  },
  {
   "cell_type": "markdown",
   "metadata": {},
   "source": [
    "Cuando se itera sobre una secuencia, se puede obtener el índice de posición junto a su valor correspondiente usando la función enumerate()."
   ]
  },
  {
   "cell_type": "code",
   "execution_count": null,
   "metadata": {},
   "outputs": [],
   "source": [
    "for i, v in enumerate(['ta', 'te', 'ti', 'to', 'tu']):\n",
    "    print(i, v)"
   ]
  },
  {
   "cell_type": "markdown",
   "metadata": {},
   "source": [
    "Para iterar sobre dos o más secuencias al mismo tiempo, los valores pueden emparejarse con la función zip()."
   ]
  },
  {
   "cell_type": "code",
   "execution_count": null,
   "metadata": {},
   "outputs": [],
   "source": [
    "preguntas = ['nombre', 'objetivo', 'color favorito']\n",
    "respuestas = ['lancelot', 'el santo grial', 'azul']\n",
    "for p, r in zip(preguntas, respuestas):\n",
    "    print('Cual es tu {0}?  {1}.'.format(p, r))"
   ]
  },
  {
   "cell_type": "markdown",
   "metadata": {},
   "source": [
    "Para iterar sobre una secuencia en orden inverso, se especifica primero la secuencia al derecho y luego se llama a la función reversed()."
   ]
  },
  {
   "cell_type": "code",
   "execution_count": null,
   "metadata": {},
   "outputs": [],
   "source": [
    "for i in reversed(range(1, 10, 2)):\n",
    "    print(i)"
   ]
  },
  {
   "cell_type": "markdown",
   "metadata": {},
   "source": [
    "Para iterar sobre una secuencia ordenada, se utiliza la función sorted() la cual devuelve una nueva lista ordenada dejando a la original intacta."
   ]
  },
  {
   "cell_type": "code",
   "execution_count": null,
   "metadata": {},
   "outputs": [],
   "source": [
    "canasta = ['manzana', 'naranja', 'manzana', 'pera', 'naranja', 'banana']\n",
    "for f in sorted(set(canasta)):\n",
    "    print(f)"
   ]
  },
  {
   "cell_type": "markdown",
   "metadata": {},
   "source": [
    "A veces uno intenta cambiar una lista mientras la está iterando; sin embargo, a menudo es más simple y seguro crear una nueva lista:"
   ]
  },
  {
   "cell_type": "code",
   "execution_count": null,
   "metadata": {},
   "outputs": [],
   "source": [
    "import math\n",
    "\n",
    "datos = [56.2, float('NaN'), 51.7, 55.3, 52.5, float('NaN'), 47.8]\n",
    "\n",
    "datos_filtrados = []\n",
    "\n",
    "for valor in datos:\n",
    "    if not math.isnan(valor):\n",
    "        datos_filtrados.append(valor)\n",
    "    \n",
    "datos_filtrados"
   ]
  },
  {
   "cell_type": "markdown",
   "metadata": {},
   "source": [
    "# 4.5 Más acerca de condiciones\n",
    "\n",
    "Las condiciones usadas en las instrucciones <b>while</b> e <b>if</b> pueden contener cualquier operador, no sólo comparaciones.\n",
    "\n",
    "Los operadores de comparación <b>in</b> y <b>not in</b> verifican si un valor está (o no está) en una secuencia. Los operadores <b>is</b> e <b>is not</b> comparan si dos objetos son realmente el mismo objeto; esto es significativo sólo para objetos mutables como las listas. Todos los operadores de comparación tienen la misma prioridad, la cual es menor que la de todos los operadores numéricos.\n",
    "\n",
    "Las comparaciones pueden encadenarse. Por ejemplo, a < b == c verifica si a es menor que b y además si b es igual a c.\n",
    "\n",
    "Las comparaciones pueden combinarse mediante los operadores booleanos and y or, y el resultado de una comparación (o de cualquier otra expresión booleana) puede negarse con not. Estos tienen prioridades menores que los operadores de comparación; entre ellos not tiene la mayor prioridad y or la menor, o sea que A and not B or C equivale a (A and (not B)) or C. Como siempre, los paréntesis pueden usarse para expresar la composición deseada.\n",
    "\n",
    "Los operadores booleanos and y or son los llamados operadores cortocircuito: sus argumentos se evalúan de izquierda a derecha, y la evaluación se detiene en el momento en que se determina su resultado. Por ejemplo, si A y C son verdaderas pero B es falsa, en A and B and C no se evalúa la expresión C. Cuando se usa como un valor general y no como un booleano, el valor devuelto de un operador cortocircuito es el último argumento evaluado.\n",
    "\n",
    "Es posible asignar el resultado de una comparación u otra expresión booleana a una variable. Por ejemplo,"
   ]
  },
  {
   "cell_type": "code",
   "execution_count": null,
   "metadata": {},
   "outputs": [],
   "source": [
    "cadena1, cadena2, cadena3 = '', 'Trondheim', 'Paso Hammer'\n",
    "non_nulo = cadena1 or cadena2 or cadena3\n",
    "non_nulo"
   ]
  },
  {
   "cell_type": "markdown",
   "metadata": {},
   "source": [
    "Notá que en Python, a diferencia de C, la asignación no puede ocurrir dentro de expresiones. Los programadores de C pueden renegar por esto, pero es algo que evita un tipo de problema común encontrado en programas en C: escribir = en una expresión cuando lo que se quiere escribir es ==."
   ]
  },
  {
   "cell_type": "markdown",
   "metadata": {},
   "source": [
    "# 4.6 Comparando secuencias y otros tipos\n",
    "\n",
    "Las secuencias pueden compararse con otros objetos del mismo tipo de secuencia. La comparación usa orden lexicográfico: primero se comparan los dos primeros ítems, si son diferentes esto ya determina el resultado de la comparación; si son iguales, se comparan los siguientes dos ítems, y así sucesivamente hasta llegar al final de alguna de las secuencias. Si dos ítems a comparar son ambos secuencias del mismo tipo, la comparación lexicográfica es recursiva. Si todos los ítems de dos secuencias resultan iguales, se considera que las secuencias son iguales.\n",
    "\n",
    "Si una secuencia es una subsecuencia inicial de la otra, la secuencia más corta es la menor. El orden lexicográfico para cadenas de caracteres utiliza el orden de códigos Unicode para caracteres individuales. Algunos ejemplos de comparaciones entre secuencias del mismo tipo:"
   ]
  },
  {
   "cell_type": "code",
   "execution_count": null,
   "metadata": {},
   "outputs": [],
   "source": [
    "(1, 2, 3)              < (1, 2, 4)"
   ]
  },
  {
   "cell_type": "code",
   "execution_count": null,
   "metadata": {},
   "outputs": [],
   "source": [
    "[1, 2, 3]              < [1, 2, 4]"
   ]
  },
  {
   "cell_type": "code",
   "execution_count": null,
   "metadata": {},
   "outputs": [],
   "source": [
    "'ABC' < 'C' < 'Pascal' < 'Python'"
   ]
  },
  {
   "cell_type": "code",
   "execution_count": null,
   "metadata": {},
   "outputs": [],
   "source": [
    "(1, 2, 3, 4)           < (1, 2, 4)"
   ]
  },
  {
   "cell_type": "code",
   "execution_count": null,
   "metadata": {},
   "outputs": [],
   "source": [
    "(1, 2)                 < (1, 2, -1)"
   ]
  },
  {
   "cell_type": "code",
   "execution_count": null,
   "metadata": {},
   "outputs": [],
   "source": [
    "(1, 2, 3)             == (1.0, 2.0, 3.0)"
   ]
  },
  {
   "cell_type": "code",
   "execution_count": null,
   "metadata": {},
   "outputs": [],
   "source": [
    "(1, 2, ('aa', 'ab'))   < (1, 2, ('abc', 'a'), 4)"
   ]
  },
  {
   "cell_type": "markdown",
   "metadata": {},
   "source": [
    "Observá que comparar objetos de diferentes tipos con < o > es legal siempre y cuando los objetas tenga los métodos de comparación apropiados. Por ejemplo, los tipos de números mezclados son comparados de acuerdo a su valor numérico, o sea 0 es igual a 0.0, etc. Si no es el caso, en lugar de proveer un ordenamiento arbitrario, el intérprete generará una excepción TypeError."
   ]
  }
 ],
 "metadata": {
  "kernelspec": {
   "display_name": "Python 3",
   "language": "python",
   "name": "python3"
  },
  "language_info": {
   "codemirror_mode": {
    "name": "ipython",
    "version": 3
   },
   "file_extension": ".py",
   "mimetype": "text/x-python",
   "name": "python",
   "nbconvert_exporter": "python",
   "pygments_lexer": "ipython3",
   "version": "3.7.4"
  }
 },
 "nbformat": 4,
 "nbformat_minor": 2
}
