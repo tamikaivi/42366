{
 "cells": [
  {
   "cell_type": "raw",
   "metadata": {},
   "source": [
    "Nombre: Vivian Georgina Loza Pinto\n",
    "Codigo: 42366"
   ]
  },
  {
   "cell_type": "raw",
   "metadata": {},
   "source": [
    "Código: 01-30 "
   ]
  },
  {
   "cell_type": "code",
   "execution_count": 27,
   "metadata": {},
   "outputs": [
    {
     "name": "stdout",
     "output_type": "stream",
     "text": [
      "JUEGO DE DADOS: HASTA REPETIR\n",
      "Tirada de Cubitus: 2 3 5 4 3 6 4 5 5 \n",
      "Tirada de Humerus: 2 6 1 3 1 5 6 5 1 6 3 6 4 6 4 5 6 6 \n",
      "Cubitus ha sacadao un 5 y Homerus ha sacado un 6.\n",
      "Ha ganado Homerus.\n"
     ]
    }
   ],
   "source": [
    "import random\n",
    "print(\"JUEGO DE DADOS: HASTA REPETIR\")\n",
    "listadados=[]\n",
    "randado=random.randint(1,6)\n",
    "listadados.append(randado)\n",
    "randado2=random.randint(1,6)\n",
    "listadados.append(randado2)\n",
    "while listadados[len(listadados)-2] != listadados[len(listadados)-1]:\n",
    "    randado2=random.randint(1,6)\n",
    "    listadados.append(randado2)\n",
    "listadadosH=[]\n",
    "randadoH=random.randint(1,6)\n",
    "listadadosH.append(randadoH)\n",
    "randado2H=random.randint(1,6)\n",
    "listadadosH.append(randado2H)\n",
    "while listadadosH[len(listadadosH)-2] != listadadosH[len(listadadosH)-1]:\n",
    "    randado2H=random.randint(1,6)\n",
    "    listadadosH.append(randado2H)\n",
    "print(\"Tirada de Cubitus:\",end=\" \")\n",
    "for p in listadados:\n",
    "    print(p,end=\" \")\n",
    "print(\"\")\n",
    "print(\"Tirada de Humerus:\",end=\" \")\n",
    "for h in listadadosH:\n",
    "    print(h,end=\" \")\n",
    "print(\"\")\n",
    "if listadadosH[len(listadadosH)-1] == listadados[len(listadados)-1]:\n",
    "    print(f\"Cubitus ha sacadao un {listadados[len(listadados)-1]} y Homerus ha sacado un {listadadosH[len(listadadosH)-1]}.\")\n",
    "    print(\"Han empatado.\")\n",
    "elif listadadosH[len(listadadosH)-1] > listadados[len(listadados)-1]:\n",
    "    print(f\"Cubitus ha sacadao un {listadados[len(listadados)-1]} y Homerus ha sacado un {listadadosH[len(listadadosH)-1]}.\")\n",
    "    print(\"Ha ganado Homerus.\")\n",
    "elif listadadosH[len(listadadosH)-1] < listadados[len(listadados)-1]:\n",
    "    print(f\"Cubitus ha sacadao un {listadados[len(listadados)-1]} y Homerus ha sacado un {listadadosH[len(listadadosH)-1]}.\")\n",
    "    print(\"Ha ganado Cubitus.\")"
   ]
  },
  {
   "cell_type": "raw",
   "metadata": {},
   "source": [
    "Código: 03-30 "
   ]
  },
  {
   "cell_type": "code",
   "execution_count": 28,
   "metadata": {},
   "outputs": [
    {
     "name": "stdout",
     "output_type": "stream",
     "text": [
      "4\n"
     ]
    }
   ],
   "source": []
  },
  {
   "cell_type": "raw",
   "metadata": {},
   "source": [
    "Código: 05-40 "
   ]
  },
  {
   "cell_type": "code",
   "execution_count": null,
   "metadata": {},
   "outputs": [],
   "source": [
    "import random\n",
    "l=int(input(\"\"))\n",
    "if l >=1 and l<=10:\n",
    "    i=1\n",
    "    tirada=[]\n",
    "    while i <= l:\n",
    "        t=input(\"\")\n",
    "        tirada=t.split(\" \")\n",
    "        intirada=[]\n",
    "        puntos=[]\n",
    "        for p in tirada:\n",
    "            intirada.append(int(p))\n",
    "        if len(set(intirada))== 1:\n",
    "            puntos.append(50)\n",
    "        else:\n",
    "            puntos.append(0)\n",
    "        if 1 in intirada:\n",
    "            puntos.append(1*intirada.count(1))\n",
    "        else:\n",
    "            puntos.append(0)\n",
    "        if 4 in intirada:\n",
    "            puntos.append(4*intirada.count(4))\n",
    "        else:\n",
    "            puntos.append(0)\n",
    "        if 2 in intirada:\n",
    "            puntos.append(2*intirada.count(2))\n",
    "        else:\n",
    "            puntos.append(0)\n",
    "        if 5 in intirada:\n",
    "            puntos.append(5*intirada.count(5))\n",
    "        else:\n",
    "            puntos.append(0)\n",
    "        if 3 in intirada:\n",
    "            puntos.append(3*intirada.count(3))\n",
    "        else:\n",
    "            puntos.append(0)\n",
    "        if 6 in intirada:\n",
    "            puntos.append(6*intirada.count(6))\n",
    "        else:\n",
    "            puntos.append(0)\n",
    "        if intirada.count(6) == 4 or intirada.count(5) == 4 or intirada.count(4) == 4 or intirada.count(3) == 4 or intirada.count(2) == 4 or intirada.count(1) == 4:\n",
    "            puntos.append(45)\n",
    "        else:\n",
    "            puntos.append(0)\n",
    "        mejor=puntos.index(max(puntos))\n",
    "        listades=\"\"\n",
    "        for j in tirada:\n",
    "            if tirada.index(j) == len(tirada)-1:\n",
    "                listades+=str(j)\n",
    "            else:\n",
    "                listades+=str(j)+\" \"\n",
    "        if mejor == 0:\n",
    "            print(f\"Grande {max(puntos)} puntos ({listades}) \")\n",
    "        elif mejor == 1:\n",
    "            print(f\"{intirada.count(1)} balas {max(puntos)} puntos ({listades}) \")\n",
    "        elif mejor == 2:\n",
    "            print(f\"{intirada.count(4)} cuadras {max(puntos)} puntos ({listades}) \")\n",
    "        elif mejor == 3:\n",
    "            print(f\"{intirada.count(2)} tontos {max(puntos)} puntos ({listades}) \")\n",
    "        elif mejor == 4:\n",
    "            print(f\"{intirada.count(5)} quinas {max(puntos)} puntos ({listades}) \")\n",
    "        elif mejor == 5:\n",
    "            print(f\"{intirada.count(3)} trenes {max(puntos)} puntos ({listades}) \")\n",
    "        elif mejor == 6:\n",
    "            print(f\"{intirada.count(6)} senas {max(puntos)} puntos ({listades}) \")\n",
    "        elif mejor == 7:\n",
    "            print(f\"Poker {max(puntos)} puntos ({listades}) \")\n",
    "        elif mejor == 8:\n",
    "            print(f\"{intirada.count(1)} balas {max(puntos)} puntos ({listades}) \")\n",
    "        i+=1\n",
    "else:\n",
    "    print(\"Imposible!.\")"
   ]
  },
  {
   "cell_type": "code",
   "execution_count": 6,
   "metadata": {},
   "outputs": [
    {
     "name": "stdout",
     "output_type": "stream",
     "text": [
      "sed\n"
     ]
    }
   ],
   "source": []
  },
  {
   "cell_type": "code",
   "execution_count": null,
   "metadata": {},
   "outputs": [],
   "source": []
  }
 ],
 "metadata": {
  "kernelspec": {
   "display_name": "Python 3",
   "language": "python",
   "name": "python3"
  },
  "language_info": {
   "codemirror_mode": {
    "name": "ipython",
    "version": 3
   },
   "file_extension": ".py",
   "mimetype": "text/x-python",
   "name": "python",
   "nbconvert_exporter": "python",
   "pygments_lexer": "ipython3",
   "version": "3.7.4"
  }
 },
 "nbformat": 4,
 "nbformat_minor": 2
}
