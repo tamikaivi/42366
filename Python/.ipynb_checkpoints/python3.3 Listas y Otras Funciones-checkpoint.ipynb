{
 "cells": [
  {
   "cell_type": "markdown",
   "metadata": {},
   "source": [
    "<img src=cenapad.jpg align=left><BR><BR><BR><BR><BR><BR>\n",
    "<h1>Curso Introducción al Lenguaje Python<br>Listas y Otras Funciones</h1>\n",
    "<img src=python-logo.png align=left>"
   ]
  },
  {
   "cell_type": "markdown",
   "metadata": {},
   "source": [
    "# 3. Listas\n",
    "\n",
    "## 3.1 Función range"
   ]
  },
  {
   "cell_type": "markdown",
   "metadata": {},
   "source": [
    "<b>range()</b> devuelve un objeto especial de tipo rango. Podemos usarlo para crear una lista de números que van desde un punto inicial hasta un punto final. También podemos especificar el tamaño del paso. Podemos usar la función rango (range) con 1, 2 o 3 argumentos."
   ]
  },
  {
   "cell_type": "code",
   "execution_count": null,
   "metadata": {},
   "outputs": [],
   "source": [
    "#Un único argumento (final de range - intérvalo abierto).\n",
    "# Inicio default es 0. Paso default es 1.\n",
    "#Define una lista a partir de un range de 0 a 9 con paso 1\n",
    "r = list(range(10))\n",
    "print(r)"
   ]
  },
  {
   "cell_type": "code",
   "execution_count": null,
   "metadata": {},
   "outputs": [],
   "source": [
    "#Dos argumentos. (inicio do range - intervalo cerrado - \n",
    "# y final del range - intervalo abierto). Paso default es 1\n",
    "r2 = list(range(5,10))  #Intervalo cerrado es 5 y \n",
    "                        #abierto en 10 con paso de 1\n",
    "print(r2)"
   ]
  },
  {
   "cell_type": "code",
   "execution_count": null,
   "metadata": {},
   "outputs": [],
   "source": [
    "#Tres argumentos - inicio (intervalo cerrado), \n",
    "#fin (intervalo abierto) y paso. \n",
    "r3 = list(range(10,20,2))   #Aqui definimos un range de10 a \n",
    "                            #20 (abierto) con paso 2\n",
    "print(r3)"
   ]
  },
  {
   "cell_type": "code",
   "execution_count": null,
   "metadata": {},
   "outputs": [],
   "source": [
    "x = range(0,10) #La función range retornoa un objeto de tipo range\n",
    "type(x)"
   ]
  },
  {
   "cell_type": "code",
   "execution_count": null,
   "metadata": {},
   "outputs": [],
   "source": [
    "#Es preciso usar la función list() para convertir un range para\n",
    "# una lista\n",
    "x = list(range(0,10))\n",
    "type(x)"
   ]
  },
  {
   "cell_type": "markdown",
   "metadata": {},
   "source": [
    "Para iterar sobre los índices de una secuencia, se puede combinar <b>range()</b> y <b>len()</b> así:"
   ]
  },
  {
   "cell_type": "code",
   "execution_count": null,
   "metadata": {},
   "outputs": [],
   "source": [
    "a = ['Mary', 'tenia', 'un', 'corderito']\n",
    "\n",
    "for i in range(len(a)):\n",
    "    print(i, a[i])"
   ]
  },
  {
   "cell_type": "markdown",
   "metadata": {},
   "source": [
    "En la mayoría de los casos, sin embargo, conviene usar la función <b>enumerate()</b>.\n",
    "\n",
    "Algo extraño sucede si mostrás un <b>range</b>:"
   ]
  },
  {
   "cell_type": "code",
   "execution_count": null,
   "metadata": {},
   "outputs": [],
   "source": [
    "print(range(10))"
   ]
  },
  {
   "cell_type": "markdown",
   "metadata": {},
   "source": [
    "De muchas maneras el objeto devuelto por <b>range()</b> se comporta como si fuera una lista, pero no lo es. Es un objeto que devuelve los ítems sucesivos de la secuencia deseada cuando iterás sobre él, pero realmente no construye la lista, ahorrando entonces espacio.\n",
    "\n",
    "Decimos que tal objeto es iterable; esto es, que se lo puede usar en funciones y construcciones que esperan algo de lo cual obtener ítems sucesivos hasta que se termine. Hemos visto que la declaración <b>for</b> es un iterador en ese sentido. La función <b>list()</b> es otra; crea listas a partir de iterables:"
   ]
  },
  {
   "cell_type": "code",
   "execution_count": null,
   "metadata": {},
   "outputs": [],
   "source": [
    "list(range(5))"
   ]
  },
  {
   "cell_type": "markdown",
   "metadata": {},
   "source": [
    "Más tarde veremos más funciones que devuelven iterables y que toman iterables como entrada."
   ]
  },
  {
   "cell_type": "markdown",
   "metadata": {},
   "source": [
    "### Ejercicio 1:\n",
    "\n",
    "Escriba un programa que escriba las siguientes listas:<br>\n",
    "[0,1]<br>\n",
    "[0]<br>\n",
    "[]<br>\n",
    "[4, 5, 6, 7, 8, 9, 10]<br>\n",
    "[-6, -5, -4, -3, -2, -1]<br>\n",
    "[-56, -55, -54, -53, -52, -51, -50]<br>\n",
    "[1, 3, 5, 7, 9, 11, 13, 15, 17]<br>\n",
    "[-6, -4, -2, 0, 2, 4, 6, 8, 10]<br>\n",
    "[100, 200, 300, 400, 500, 600, 700, 800, 900, 1000]<br>\n",
    "[17, 15, 13, 11, 9, 7, 5, 3, 1]<br>\n",
    "\n",
    "<b>Nota:</b> Para cada lista será necesario incluir un print(list(range( ... )))"
   ]
  },
  {
   "cell_type": "code",
   "execution_count": 5,
   "metadata": {},
   "outputs": [
    {
     "name": "stdout",
     "output_type": "stream",
     "text": [
      "[0, 1]\n",
      "[0]\n",
      "[]\n",
      "[4, 5, 6, 7, 8, 9, 10]\n"
     ]
    }
   ],
   "source": [
    "print(list(range(0,1+1)))\n",
    "print(list(range(0,1)))\n",
    "print(list(range(0)))\n",
    "print(list(range(4,11)))\n"
   ]
  },
  {
   "cell_type": "markdown",
   "metadata": {},
   "source": [
    "### Ejercicio 2:\n",
    "\n",
    "Escriba un programa que pida un número entero mayor que cero y escriba varias listas de números consecutivos, como indican los ejemplos siguientes:\n",
    "\n",
    "<b>Salida deseada:</b><br>\n",
    "LISTAS A PARTIR DE VALOR<br>\n",
    "Escriba un número entero mayor que 0: 0<br>\n",
    "¡Le he pedido un número entero mayor que 0!<br>\n",
    "<br>\n",
    "LISTAS A PARTIR DE VALOR<br>\n",
    "Escriba un número entero mayor que 0: 5<br>\n",
    "[0, 1, 2, 3, 4, 5]<br>\n",
    "[5, 4, 3, 2, 1, 0]<br>\n",
    "[1, 2, 3, 4]<br>\n",
    "[4, 3, 2, 1]<br>\n",
    "[0, 1, 2, 3, 4, 5, 4, 3, 2, 1, 0]<br>\n",
    "<br>\n",
    "LISTAS A PARTIR DE VALOR<br>\n",
    "Escriba un número entero mayor que 0: 1<br>\n",
    "[0, 1]<br>\n",
    "[1, 0]<br>\n",
    "[]<br>\n",
    "[]<br>\n",
    "[0, 1, 0]<br>"
   ]
  },
  {
   "cell_type": "code",
   "execution_count": null,
   "metadata": {},
   "outputs": [],
   "source": [
    "# Escriba el código aqui\n"
   ]
  },
  {
   "cell_type": "markdown",
   "metadata": {},
   "source": [
    "### Ejercicio 3:\n",
    "\n",
    "Escriba un programa que pida dos números enteros (el segundo mayor que el primero) y escriba varias listas de números consecutivos, como indican los siguientes ejemplos:\n",
    "\n",
    "<b>Salida deseada:</b><br>\n",
    "LISTAS ENTRE DOS NÚMEROS<br>\n",
    "Escriba un número entero: 8<br>\n",
    "Escriba otro número entero mayor que 8: 5<br>\n",
    "¡Le he pedido un número mayor que 8!<br>\n",
    "<br>\n",
    "LISTAS ENTRE DOS NÚMEROS<br>\n",
    "Escriba un número entero: 5<br>\n",
    "Escriba otro número entero mayor que 5: 11<br>\n",
    "[5, 6, 7, 8, 9, 10, 11]<br>\n",
    "[10, 9, 8, 7, 6, 5]<br>\n",
    "[6, 7, 8, 9, 10, 11, 12]<br>\n",
    "[10, 9, 8, 7, 6]<br>\n",
    "[5, 6, 7, 8, 9, 10, 11, 10, 9, 8, 7, 6, 5]<br>\n",
    "<br>\n",
    "LISTAS ENTRE DOS NÚMEROS<br>\n",
    "Escriba un número entero: -2<br>\n",
    "Escriba otro número entero mayor que -2: 3<br>\n",
    "[-2, -1, 0, 1, 2, 3]<br>\n",
    "[2, 1, 0, -1, -2]<br>\n",
    "[-1, 0, 1, 2, 3, 4]<br>\n",
    "[2, 1, 0, -1]<br>\n",
    "[-2, -1, 0, 1, 2, 3, 2, 1, 0, -1, -2]<br>"
   ]
  },
  {
   "cell_type": "code",
   "execution_count": null,
   "metadata": {},
   "outputs": [],
   "source": [
    "# Escriba el código aqui\n"
   ]
  },
  {
   "cell_type": "markdown",
   "metadata": {},
   "source": [
    "### Ejercicio 4:\n",
    "\n",
    "Escriba un programa que pida dos números enteros y escriba la lista de números pares que hay entre ellos (incluidos ellos mismos si son pares).\n",
    "\n",
    "<b>Salida deseada:</b><br>\n",
    "PARES ENTRE VALORES<br>\n",
    "Escriba el número entero inicial: 6<br>\n",
    "Escriba el número entero final: 4<br>\n",
    "¡El número final debe ser mayor que el inicial!<br>\n",
    "<br>\n",
    "PARES ENTRE VALORES<br>\n",
    "Escriba el número entero inicial: 3<br>\n",
    "Escriba el número entero final: 12<br>\n",
    "[4, 6, 8, 10, 12]<br>\n",
    "<br>\n",
    "PARES ENTRE VALORES<br>\n",
    "Escriba el número entero inicial: 6<br>\n",
    "Escriba el número entero final: 15<br>\n",
    "[6, 8, 10, 12, 14]<br>\n",
    "<br>\n",
    "PARES ENTRE VALORES<br>\n",
    "Escriba el número entero inicial: 8<br>\n",
    "Escriba el número entero final: 8<br>\n",
    "[8]<br>"
   ]
  },
  {
   "cell_type": "code",
   "execution_count": null,
   "metadata": {},
   "outputs": [],
   "source": [
    "# Escriba el código aqui\n"
   ]
  },
  {
   "cell_type": "markdown",
   "metadata": {},
   "source": [
    "### Ejercicio 5:\n",
    "\n",
    "Escriba un programa que pida tres números enteros y escriba la lista de números múltiplos del tercero que hay entre los dos primeros (incluidos ellos mismos si son múltiplos del número indicado):\n",
    "\n",
    "<b>Salida deseada:</b><br>\n",
    "MÚLTIPLOS ENTRE VALORES<br>\n",
    "Escriba el número entero inicial: 5<br>\n",
    "Escriba el número entero final: 4<br>\n",
    "¡El número final debe ser mayor que el inicial!<br>\n",
    "<br>\n",
    "MÚLTIPLOS ENTRE VALORES<br>\n",
    "Escriba el número entero inicial: 9<br>\n",
    "Escriba el número entero final: 37<br>\n",
    "¿De qué número quiere los múltiplos?: 0<br>\n",
    "¡Los múltiplos deben ser de un número entero mayor que cero!<br>\n",
    "<br>\n",
    "MÚLTIPLOS ENTRE VALORES<br>\n",
    "Escriba el número entero inicial: 9<br>\n",
    "Escriba el número entero final: 37<br>\n",
    "¿De qué número quiere los múltiplos?: 5<br>\n",
    "Entre 9 y 37 hay 6 múltiplos de 5:<br>\n",
    "[10, 15, 20, 25, 30, 35]<br>\n",
    "<br>\n",
    "MÚLTIPLOS ENTRE VALORES<br>\n",
    "Escriba el número entero inicial: 9<br>\n",
    "Escriba el número entero final: 18<br>\n",
    "¿De qué número quiere los múltiplos?: 3<br>\n",
    "Entre 9 y 18 hay 4 múltiplos de 3:<br>\n",
    "[9, 12, 15, 18]<br>\n",
    "<br>\n",
    "MÚLTIPLOS ENTRE VALORES<br>\n",
    "Escriba el número entero inicial: 7<br>\n",
    "Escriba el número entero final: 10<br>\n",
    "¿De qué número quiere los múltiplos?: 25<br>\n",
    "Entre 7 y 10 hay 0 múltiplos de 25:<br>\n",
    "[]<br>\n",
    "<br>\n",
    "MÚLTIPLOS ENTRE VALORES<br>\n",
    "Escriba el número entero inicial: 35<br>\n",
    "Escriba el número entero final: 39<br>\n",
    "¿De qué número quiere los múltiplos?: 5<br>\n",
    "Entre 35 y 39 hay 1 múltiplos de 5:<br>\n",
    "[35]<br>"
   ]
  },
  {
   "cell_type": "code",
   "execution_count": null,
   "metadata": {},
   "outputs": [],
   "source": [
    "# Escriba el código aqui\n"
   ]
  },
  {
   "cell_type": "markdown",
   "metadata": {},
   "source": [
    "## 3.2 Más sobre listas"
   ]
  },
  {
   "cell_type": "code",
   "execution_count": null,
   "metadata": {},
   "outputs": [],
   "source": [
    "#Definimos una lista de 30 números para realizar los ejemplos.\n",
    "from random import randrange\n",
    "num=[randrange(20) for p in range(0,5)]\n",
    "print(num)"
   ]
  },
  {
   "cell_type": "code",
   "execution_count": null,
   "metadata": {},
   "outputs": [],
   "source": [
    "#Opción 2\n",
    "from random import randint\n",
    "x = [randint(0, 9) for p in range(0, 5)]\n",
    "print(x)"
   ]
  },
  {
   "cell_type": "markdown",
   "metadata": {},
   "source": [
    "<b>El tipo de dato lista tiene algunos métodos más. Aquí están todos los métodos de los objetos lista:</b>"
   ]
  },
  {
   "cell_type": "markdown",
   "metadata": {},
   "source": [
    "<b>list.append(valor)</b>\\\n",
    "Agrega un ítem al final de la lista."
   ]
  },
  {
   "cell_type": "code",
   "execution_count": null,
   "metadata": {},
   "outputs": [],
   "source": [
    "num.append(22)\n",
    "print(num)"
   ]
  },
  {
   "cell_type": "markdown",
   "metadata": {},
   "source": [
    "<b>list.extend(iterable)</b>\\\n",
    "Extiende la lista agregándole todos los ítems del iterable."
   ]
  },
  {
   "cell_type": "code",
   "execution_count": null,
   "metadata": {},
   "outputs": [],
   "source": [
    "num.extend(x)\n",
    "print(num)"
   ]
  },
  {
   "cell_type": "markdown",
   "metadata": {},
   "source": [
    "<b>list.insert(posición, valor)</b>\\\n",
    "Inserta un ítem en una posición dada. El primer argumento es el índice del ítem delante del cual se insertará, por lo tanto lista.insert(0, x) inserta al principio de la lista, y lista.insert(len(lista), valor) equivale a lista.append(valor)."
   ]
  },
  {
   "cell_type": "code",
   "execution_count": null,
   "metadata": {},
   "outputs": [],
   "source": [
    "num.insert(0,18)\n",
    "print(num)"
   ]
  },
  {
   "cell_type": "markdown",
   "metadata": {},
   "source": [
    "<b>list.remove(x)</b>\\\n",
    "Quita el primer ítem de la lista cuyo valor sea x. Es un error si no existe tal ítem."
   ]
  },
  {
   "cell_type": "code",
   "execution_count": null,
   "metadata": {},
   "outputs": [],
   "source": [
    "num.remove(2)\n",
    "print(num)"
   ]
  },
  {
   "cell_type": "markdown",
   "metadata": {},
   "source": [
    "<b>list.pop(*)</b> ==> donde    * es la pocisión opcional\\\n",
    "Quita el ítem en la posición dada de la lista, y lo devuelve. Si no se especifica un índice, list.pop() quita y devuelve el último ítem de la lista. (Los corchetes que encierran a i en la firma del método denotan que el parámetro es opcional, no que deberías escribir corchetes en esa posición. Verás esta notación con frecuencia en la Referencia de la Biblioteca de Python.)"
   ]
  },
  {
   "cell_type": "code",
   "execution_count": null,
   "metadata": {},
   "outputs": [],
   "source": [
    "num.pop()\n",
    "print(num)"
   ]
  },
  {
   "cell_type": "code",
   "execution_count": null,
   "metadata": {},
   "outputs": [],
   "source": [
    "num.pop(1)\n",
    "print(num)"
   ]
  },
  {
   "cell_type": "markdown",
   "metadata": {},
   "source": [
    "<b>list.clear()</b>\\\n",
    "Quita todos los elementos de la lista. Equivalente a del list[:]."
   ]
  },
  {
   "cell_type": "code",
   "execution_count": null,
   "metadata": {},
   "outputs": [],
   "source": [
    "print(x)\n",
    "x.clear()\n",
    "print(x)"
   ]
  },
  {
   "cell_type": "markdown",
   "metadata": {},
   "source": [
    "<b>list.index(x[, start[, end]])</b>\\\n",
    "Devuelve un índice basado en cero en la lista del primer ítem cuyo valor sea x. Levanta una excepción ValueError si no existe tal ítem.\n",
    "\n",
    "Los argumentos opcionales start y end son interpetados como la notación de rebanadas y se usan para limitar la búsqueda a una subsecuencia particular de la lista. El index retornado se calcula de manera relativa al inicio de la secuencia completa en lugar de con respecto al argumento start."
   ]
  },
  {
   "cell_type": "code",
   "execution_count": null,
   "metadata": {},
   "outputs": [],
   "source": [
    "num.index(10)"
   ]
  },
  {
   "cell_type": "code",
   "execution_count": null,
   "metadata": {},
   "outputs": [],
   "source": [
    "num.index(11,10,20)"
   ]
  },
  {
   "cell_type": "markdown",
   "metadata": {},
   "source": [
    "<b>list.count(x)</b>\\\n",
    "Devuelve el número de veces que x aparece en la lista."
   ]
  },
  {
   "cell_type": "code",
   "execution_count": null,
   "metadata": {},
   "outputs": [],
   "source": [
    "num.count(5)"
   ]
  },
  {
   "cell_type": "markdown",
   "metadata": {},
   "source": [
    "<b>list.sort(key=None, reverse=False)</b>\\\n",
    "Ordena los ítems de la lista in situ (los argumentos pueden ser usados para personalizar el orden de la lista. Más información en sorted() para su explicación)."
   ]
  },
  {
   "cell_type": "code",
   "execution_count": null,
   "metadata": {},
   "outputs": [],
   "source": [
    "num.sort()\n",
    "print(num)"
   ]
  },
  {
   "cell_type": "code",
   "execution_count": null,
   "metadata": {},
   "outputs": [],
   "source": [
    "num.sort(reverse=True)\n",
    "print(num)"
   ]
  },
  {
   "cell_type": "code",
   "execution_count": null,
   "metadata": {},
   "outputs": [],
   "source": [
    "def func(x): \n",
    "    return x % 7\n",
    "num.sort(key=func)\n",
    "print(num)\n",
    "# ¿Qué es lo que realiza?"
   ]
  },
  {
   "cell_type": "code",
   "execution_count": null,
   "metadata": {},
   "outputs": [],
   "source": [
    "?sorted"
   ]
  },
  {
   "cell_type": "markdown",
   "metadata": {},
   "source": [
    "<b>list.reverse()</b>\\\n",
    "Invierte los elementos de la lista in situ."
   ]
  },
  {
   "cell_type": "code",
   "execution_count": null,
   "metadata": {},
   "outputs": [],
   "source": [
    "num.reverse()\n",
    "print(num)"
   ]
  },
  {
   "cell_type": "markdown",
   "metadata": {},
   "source": [
    "<b>list.copy()</b>\\\n",
    "Devuelve una copia superficial de la lista. Equivalente a list[:]."
   ]
  },
  {
   "cell_type": "code",
   "execution_count": null,
   "metadata": {},
   "outputs": [],
   "source": [
    "x = num.copy()\n",
    "print(x)"
   ]
  },
  {
   "cell_type": "markdown",
   "metadata": {},
   "source": [
    "<b>Nota: </b>Quizás hayas notado que métodos como insert, remove o sort, que solo modifican a la lista, no tienen impreso un valor de retorno – devuelven None. Esto es un principio de diseño para todas las estructuras de datos mutables en Python."
   ]
  },
  {
   "cell_type": "markdown",
   "metadata": {},
   "source": [
    "## 3.3 Usando listas como pilas\n",
    "Los métodos de lista hacen que resulte muy fácil usar una lista como una pila, donde el último elemento añadido es el primer elemento retirado (“último en entrar, primero en salir”). Para agregar un ítem a la cima de la pila, use append(). Para retirar un ítem de la cima de la pila, use pop() sin un índice explícito. Por ejemplo:"
   ]
  },
  {
   "cell_type": "code",
   "execution_count": null,
   "metadata": {},
   "outputs": [],
   "source": [
    "stack = [3, 4, 5]"
   ]
  },
  {
   "cell_type": "code",
   "execution_count": null,
   "metadata": {},
   "outputs": [],
   "source": [
    "stack.append(6)"
   ]
  },
  {
   "cell_type": "code",
   "execution_count": null,
   "metadata": {},
   "outputs": [],
   "source": [
    "stack.append(7)"
   ]
  },
  {
   "cell_type": "code",
   "execution_count": null,
   "metadata": {},
   "outputs": [],
   "source": [
    "stack"
   ]
  },
  {
   "cell_type": "code",
   "execution_count": null,
   "metadata": {},
   "outputs": [],
   "source": [
    "stack.pop()"
   ]
  },
  {
   "cell_type": "code",
   "execution_count": null,
   "metadata": {},
   "outputs": [],
   "source": [
    "stack"
   ]
  },
  {
   "cell_type": "code",
   "execution_count": null,
   "metadata": {},
   "outputs": [],
   "source": [
    "stack.pop()"
   ]
  },
  {
   "cell_type": "code",
   "execution_count": null,
   "metadata": {},
   "outputs": [],
   "source": [
    "stack.pop()"
   ]
  },
  {
   "cell_type": "code",
   "execution_count": null,
   "metadata": {},
   "outputs": [],
   "source": [
    "stack"
   ]
  },
  {
   "cell_type": "markdown",
   "metadata": {},
   "source": [
    "## 3.4 Usando listas como colas\n",
    "También es posible usar una lista como una cola, donde el primer elemento añadido es el primer elemento retirado (“primero en entrar, primero en salir”); sin embargo, las listas no son eficientes para este propósito. Agregar y sacar del final de la lista es rápido, pero insertar o sacar del comienzo de una lista es lento (porque todos los otros elementos tienen que ser desplazados por uno)."
   ]
  },
  {
   "cell_type": "code",
   "execution_count": null,
   "metadata": {},
   "outputs": [],
   "source": [
    "from collections import deque"
   ]
  },
  {
   "cell_type": "code",
   "execution_count": null,
   "metadata": {},
   "outputs": [],
   "source": [
    "queue = deque([\"Eric\", \"John\", \"Michael\"])\n",
    "print(queue)"
   ]
  },
  {
   "cell_type": "code",
   "execution_count": null,
   "metadata": {},
   "outputs": [],
   "source": [
    "queue.append(\"Terry\")         # llega Terry"
   ]
  },
  {
   "cell_type": "code",
   "execution_count": null,
   "metadata": {},
   "outputs": [],
   "source": [
    "queue.append(\"Graham\")        # llega Graham"
   ]
  },
  {
   "cell_type": "code",
   "execution_count": null,
   "metadata": {},
   "outputs": [],
   "source": [
    "print(queue)"
   ]
  },
  {
   "cell_type": "code",
   "execution_count": null,
   "metadata": {},
   "outputs": [],
   "source": [
    "queue.popleft()               # el primero en llegar ahora se va"
   ]
  },
  {
   "cell_type": "code",
   "execution_count": null,
   "metadata": {},
   "outputs": [],
   "source": [
    "queue.popleft()               # el segundo en llegar ahora se va"
   ]
  },
  {
   "cell_type": "code",
   "execution_count": null,
   "metadata": {},
   "outputs": [],
   "source": [
    "queue                         # el resto de la cola en órden de llegada"
   ]
  },
  {
   "cell_type": "markdown",
   "metadata": {},
   "source": [
    "### Ejercicio 6:\n",
    "\n",
    "Escriba un programa que permita crear una lista de palabras. Para ello, el programa tiene que pedir un número y luego solicitar ese número de palabras para crear la lista. Por último, el programa tiene que escribir la lista.\n",
    "\n",
    "<b>Salida deseada:</b><br>\n",
    "Dígame cuántas palabras tiene la lista: 3<br>\n",
    "Dígame la palabra 1: Alberto<br>\n",
    "Dígame la palabra 2: Benito<br>\n",
    "Dígame la palabra 3: Carmen<br>\n",
    "La lista creada es: ['Alberto', 'Benito', 'Carmen']<br>\n",
    "<br>\n",
    "Dígame cuántas palabras tiene la lista: 0<br>\n",
    "¡Imposible!<br>"
   ]
  },
  {
   "cell_type": "code",
   "execution_count": null,
   "metadata": {},
   "outputs": [],
   "source": [
    "# Escriba el código aqui\n"
   ]
  },
  {
   "cell_type": "markdown",
   "metadata": {},
   "source": [
    "### Ejercicio 7:\n",
    "\n",
    "Escriba un programa que permita crear dos listas de palabras y que, a continuación, elimine de la primera lista los nombres de la segunda lista.\n",
    "\n",
    "<b>Salida deseada:</b><br>\n",
    "Dígame cuántas palabras tiene la lista: 5<br>\n",
    "Dígame la palabra 1: Carmen<br>\n",
    "Dígame la palabra 2: Carmen<br>\n",
    "Dígame la palabra 3: Alberto<br>\n",
    "Dígame la palabra 4: Benito<br>\n",
    "Dígame la palabra 5: David<br>\n",
    "La lista creada es: ['Carmen', 'Carmen', 'Alberto', 'Benito', 'David']<br>\n",
    "Dígame cuántas palabras tiene la lista de palabras a eliminar: 3<br>\n",
    "Dígame la palabra 1: Benito<br>\n",
    "Dígame la palabra 2: Juan<br>\n",
    "Dígame la palabra 3: Carmen<br>\n",
    "La lista de palabras a eliminar es: ['Benito', 'Juan', 'Carmen']<br>\n",
    "La lista es ahora: ['Alberto', 'David']<br>"
   ]
  },
  {
   "cell_type": "code",
   "execution_count": null,
   "metadata": {},
   "outputs": [],
   "source": [
    "# Escriba el código aqui\n"
   ]
  },
  {
   "cell_type": "markdown",
   "metadata": {},
   "source": [
    "### Ejercicio 8:\n",
    "\n",
    "Escriba un programa que permita crear una lista de palabras y que, a continuación, elimine los elementos repetidos (dejando únicamente el primero de los elementos repetido\n",
    "\n",
    "<b>Salida deseada:</b><br>\n",
    "Dígame cuántas palabras tiene la lista: 4<br>\n",
    "Dígame la palabra 1: Alberto<br>\n",
    "Dígame la palabra 2: Carmen<br>\n",
    "Dígame la palabra 3: Benito<br>\n",
    "Dígame la palabra 4: Carmen<br>\n",
    "La lista creada es: ['Alberto', 'Carmen', 'Benito', 'Carmen']<br>\n",
    "La lista sin repeticiones es: ['Alberto', 'Carmen', 'Benito']<br>"
   ]
  },
  {
   "cell_type": "code",
   "execution_count": null,
   "metadata": {},
   "outputs": [],
   "source": [
    "# Escriba el código aqui\n"
   ]
  },
  {
   "cell_type": "markdown",
   "metadata": {},
   "source": [
    "### Ejercicio 9:\n",
    "\n",
    "Escriba un programa que permita crear dos listas de palabras y que, a continuación, escriba las siguientes listas (en las que no debe haber repeticiones):\n",
    "<ul>\n",
    "    <li>Lista de palabras que aparecen en las dos listas.</li>\n",
    "    <li>Lista de palabras que aparecen en la primera lista, pero no en la segunda.</li>\n",
    "    <li>Lista de palabras que aparecen en la segunda lista, pero no en la primera.</li>\n",
    "    <li>Lista de palabras que aparecen en ambas listas.</li>\n",
    "</ul>\n",
    "Nota: Para evitar las repeticiones, el programa deberá empezar eliminando los elementos repetidos en cada lista.\n",
    "\n",
    "<b>Salida deseada:</b><br>\n",
    "Dígame cuántas palabras tiene la primera lista: 4<br>\n",
    "Dígame la palabra 1: Carmen<br>\n",
    "Dígame la palabra 2: Alberto<br>\n",
    "Dígame la palabra 3: Benito<br>\n",
    "Dígame la palabra 4: Carmen<br>\n",
    "La primera lista es: ['Carmen', 'Alberto', 'Benito', 'Carmen']<br>\n",
    "Dígame cuántas palabras tiene la segunda lista: 3<br>\n",
    "Dígame la palabra 1: Benito<br>\n",
    "Dígame la palabra 2: Juan<br>\n",
    "Dígame la palabra 3: Carmen<br>\n",
    "La segunda lista es: ['Benito', 'Juan', 'Carmen']<br>\n",
    "Palabras que aparecen en las dos listas: ['Carmen', 'Benito']<br>\n",
    "Palabras que sólo aparecen en la primera lista: ['Alberto']<br>\n",
    "Palabras que sólo aparecen en la segunda lista: ['Juan']<br>\n",
    "Todas las palabras: ['Carmen', 'Benito', 'Alberto', 'Juan']<br>"
   ]
  },
  {
   "cell_type": "code",
   "execution_count": null,
   "metadata": {},
   "outputs": [],
   "source": [
    "# Escriba el código aqui\n"
   ]
  },
  {
   "cell_type": "markdown",
   "metadata": {},
   "source": [
    "### Ejercicio 10:\n",
    "\n",
    "Escriba un programa que permita crear una lista de palabras y que, a continuación, ordene la lista por la extensión de las palabras de forma ascendente.\n",
    "\n",
    "<b>Salida deseada:</b><br>\n",
    "Dígame cuántas palabras tiene la lista: 4<br>\n",
    "Dígame la palabra 1: Carmen<br>\n",
    "Dígame la palabra 2: Alberto<br>\n",
    "Dígame la palabra 3: José<br>\n",
    "Dígame la palabra 4: Juan Carlos<br>\n",
    "La lista creada es: ['Carmen', Alberto', 'José', 'Juan Carlos']\n",
    "La lista ordenada es: ['José', 'Carmen', 'Alberto', 'Juan Carlos']"
   ]
  },
  {
   "cell_type": "code",
   "execution_count": null,
   "metadata": {},
   "outputs": [],
   "source": [
    "# Escriba el código aqui\n"
   ]
  },
  {
   "cell_type": "markdown",
   "metadata": {},
   "source": [
    "## 3.5 Las sentencias break, continue, y else en Bucles\n",
    "La sentencia <b>break</b>, como en C, termina el bucle <b>for</b> o <b>while</b> más anidado.<br><br>\n",
    "Las sentencias de bucle pueden tener una cláusula <b>else</b> que es ejecutada cuando el bucle terminal, luego de agotar la lista (con <b>for</b>) o cuando la condición se hace falsa (con <b>while</b>), pero no cuando el bucle es terminado con la sentencia <b>break</b>. Se ejemplifica en el siguiente bucle, que busca números primos:"
   ]
  },
  {
   "cell_type": "code",
   "execution_count": null,
   "metadata": {},
   "outputs": [],
   "source": [
    "for n in range(2, 10):\n",
    "    for x in range(2, n):\n",
    "        if n % x == 0:\n",
    "            print(n, 'es igual a', x, '*', n/x)\n",
    "            break\n",
    "    else:\n",
    "        # sigue el bucle sin encontrar un factor\n",
    "        print(n, 'es un numero primo')"
   ]
  },
  {
   "cell_type": "markdown",
   "metadata": {},
   "source": [
    "(Sí, este es el código correcto. Fijate bien: el <b>else</b> pertenece al ciclo <b>for</b>, no al <b>if</b>.)<br><br>\n",
    "Cuando se usa con un ciclo, el <b>else</b> tiene más en común con el <b>else</b> de una declaración <b>try</b> que con el de un <b>if</b>: el <b>else</b> de un <b>try</b> se ejecuta cuando no se genera ninguna excepción, y el <b>else</b> de un ciclo se ejecuta cuando no hay ningún <b>break</b>.\n",
    "La declaración <b>continue</b>, también tomada de C, continua con la siguiente iteración del ciclo:"
   ]
  },
  {
   "cell_type": "code",
   "execution_count": null,
   "metadata": {},
   "outputs": [],
   "source": [
    "for num in range(2, 10):\n",
    "    if num % 2 == 0:\n",
    "        print(\"Encontré un número par\", num)\n",
    "        continue\n",
    "    print(\"Encontré un número\", num)"
   ]
  },
  {
   "cell_type": "markdown",
   "metadata": {},
   "source": [
    "## 3.6 La sentencia pass\n",
    "La sentencia <b>pass</b> no hace nada. Se puede usar cuando una sentencia es requerida por la sintáxis pero el programa no requiere ninguna acción. Por ejemplo:"
   ]
  },
  {
   "cell_type": "code",
   "execution_count": null,
   "metadata": {},
   "outputs": [],
   "source": [
    "while True:\n",
    "    # Espera ocupada hasta una interrupción de teclado (Ctrl+C)\n",
    "    # en el terminal o stop en jupyter notebook\n",
    "    pass"
   ]
  },
  {
   "cell_type": "markdown",
   "metadata": {},
   "source": [
    "Se usa normalmente para crear clases en su mínima expresión:"
   ]
  },
  {
   "cell_type": "code",
   "execution_count": null,
   "metadata": {},
   "outputs": [],
   "source": [
    "class MyEmptyClass:\n",
    "    pass"
   ]
  },
  {
   "cell_type": "markdown",
   "metadata": {},
   "source": [
    "Otro lugar donde se puede usar <b>pass</b> es como una marca de lugar para una función o un cuerpo condicional cuando estás trabajando en código nuevo, lo cual te permite pensar a un nivel de abstracción mayor. El <b>pass</b> se ignora silenciosamente:"
   ]
  },
  {
   "cell_type": "code",
   "execution_count": null,
   "metadata": {},
   "outputs": [],
   "source": [
    "def initlog(*args):\n",
    "    pass   # Acordate de implementar esto!"
   ]
  },
  {
   "cell_type": "markdown",
   "metadata": {},
   "source": [
    "## 3.7 Comprensión de listas (List Comprehension)\n",
    "\n",
    "Crear y adicioar valores a una lista en Python puede ser una tarea tediosa. Afortunadamente Python proporciona un atajo que permite la creación de listas a trav;es de una sintaxis facil y con poco código. \n",
    "\n",
    "Las List Comprehension ofrecen una manera concisa de crear listas. Sus usos comunes son para hacer nuevas listas donde cada elemento es el resultado de algunas operaciones aplicadas a cada miembro de otra secuencia o iterable, o para crear una subsecuencia de esos elementos para satisfacer una condición determinada.\n",
    "\n",
    "La sintaxis básica es lista = [ expresión for item in lista if condición].<br>\n",
    "\n",
    "Esta sintaxis intenta aproximarse a la notación matemática. Por ejemplo:\n",
    "S = {x² : x in {0 ... 9}}\n",
    "V = (1, 2, 4, 8, ..., 2¹²)\n",
    "M = {x | x in S and x even}\n",
    "\n",
    "Por ejemplo, asumamos que queremos crear una lista de cuadrados, como:"
   ]
  },
  {
   "cell_type": "code",
   "execution_count": null,
   "metadata": {},
   "outputs": [],
   "source": [
    "cuadrados = []\n",
    "for x in range(10):\n",
    "    cuadrados.append(x**2)\n",
    "print(cuadrados)"
   ]
  },
  {
   "cell_type": "markdown",
   "metadata": {},
   "source": [
    "Nota que esto crea (o sobreescribe) una variable llamada x que sigue existiendo luego de que el bucle haya terminado. Podemos calcular la lista de cuadrados sin ningun efecto secundario haciendo:"
   ]
  },
  {
   "cell_type": "code",
   "execution_count": null,
   "metadata": {},
   "outputs": [],
   "source": [
    "cuadrados2 = list(map(lambda x: x**2, range(10)))\n",
    "print(cuadrados2)"
   ]
  },
  {
   "cell_type": "markdown",
   "metadata": {},
   "source": [
    "o, un equivalente:"
   ]
  },
  {
   "cell_type": "code",
   "execution_count": null,
   "metadata": {},
   "outputs": [],
   "source": [
    "cuadrados3 = [x ** 2 for x in range(10)]\n",
    "print(cuadrados3)"
   ]
  },
  {
   "cell_type": "markdown",
   "metadata": {},
   "source": [
    "que es más conciso y legible.\n",
    "\n",
    "Una lista de comprensión consiste de corchetes rodeando una expresión seguida de la declaración <b>for</b> y luego cero o más declaraciones <b>for</b> o <b>if</b>. El resultado será una nueva lista que sale de evaluar la expresión en el contexto de los <b>for</b> o <b>if</b> que le siguen. Por ejemplo, esta lista de comprensión combina los elementos de dos listas si no son iguales:"
   ]
  },
  {
   "cell_type": "code",
   "execution_count": null,
   "metadata": {},
   "outputs": [],
   "source": [
    "[(x, y) for x in [1,2,3] for y in [3,1,4] if x != y]"
   ]
  },
  {
   "cell_type": "markdown",
   "metadata": {},
   "source": [
    "y es equivalente a:"
   ]
  },
  {
   "cell_type": "code",
   "execution_count": null,
   "metadata": {},
   "outputs": [],
   "source": [
    "combinacion = []\n",
    "for x in [1,2,3]:\n",
    "    for y in [3,1,4]:\n",
    "        if x != y:\n",
    "            combinacion.append((x, y))\n",
    "combinacion"
   ]
  },
  {
   "cell_type": "markdown",
   "metadata": {},
   "source": [
    "Notá como el orden de los <b>for</b> y <b>if</b> es el mismo en ambos pedacitos de código.\n",
    "\n",
    "Si la expresión es una tupla (como el (x, y) en el ejemplo anterior), debe estar entre paréntesis."
   ]
  },
  {
   "cell_type": "code",
   "execution_count": null,
   "metadata": {},
   "outputs": [],
   "source": [
    "#Declaramos dos vectores\n",
    "vec = [-4, -2, 0, 2, 4]\n",
    "print(vec)\n",
    "vec2 = [[1,2,3], [4,5,6], [7,8,9]]\n",
    "print(vec2)\n",
    "frutafresca = ['  banana', '  mora de Logan ', 'maracuya  ']\n",
    "print(frutafresca)"
   ]
  },
  {
   "cell_type": "markdown",
   "metadata": {},
   "source": [
    "#### Ejemplo 1. Crear una nueva lista con los valores duplicados."
   ]
  },
  {
   "cell_type": "code",
   "execution_count": null,
   "metadata": {},
   "outputs": [],
   "source": [
    "[x * 2 for x in vec]"
   ]
  },
  {
   "cell_type": "markdown",
   "metadata": {},
   "source": [
    "#### Ejemplo 2. Filtrar la lista para excluir números negativos."
   ]
  },
  {
   "cell_type": "code",
   "execution_count": null,
   "metadata": {},
   "outputs": [],
   "source": [
    "[x for x in vec if x >= 0]"
   ]
  },
  {
   "cell_type": "markdown",
   "metadata": {},
   "source": [
    "#### Ejemplo 3. Aplica una función a todos los elementos."
   ]
  },
  {
   "cell_type": "code",
   "execution_count": null,
   "metadata": {},
   "outputs": [],
   "source": [
    "[abs(x) for x in vec]"
   ]
  },
  {
   "cell_type": "markdown",
   "metadata": {},
   "source": [
    "#### Ejemplo 4. Llama un método a cada elemento."
   ]
  },
  {
   "cell_type": "code",
   "execution_count": null,
   "metadata": {},
   "outputs": [],
   "source": [
    "[arma.strip() for arma in frutafresca]"
   ]
  },
  {
   "cell_type": "markdown",
   "metadata": {},
   "source": [
    "#### Ejemplo 5. Crea una lista de tuplas de dos como (número, cuadrado)."
   ]
  },
  {
   "cell_type": "code",
   "execution_count": null,
   "metadata": {},
   "outputs": [],
   "source": [
    "[(x, x ** 2) for x in range(6)]"
   ]
  },
  {
   "cell_type": "markdown",
   "metadata": {},
   "source": [
    "#### Ejemplo Error. La tupla debe estar entre paréntesis, sino es un error."
   ]
  },
  {
   "cell_type": "code",
   "execution_count": null,
   "metadata": {},
   "outputs": [],
   "source": [
    "[x, x ** 2 for x in range(6)]"
   ]
  },
  {
   "cell_type": "markdown",
   "metadata": {},
   "source": [
    "#### Ejemplo 6. Aplanar una lista usando comprensión de listas con dos 'for'"
   ]
  },
  {
   "cell_type": "code",
   "execution_count": null,
   "metadata": {},
   "outputs": [],
   "source": [
    "[num for elem in vec2 for num in elem]"
   ]
  },
  {
   "cell_type": "markdown",
   "metadata": {},
   "source": [
    "Las comprensiones de listas pueden contener expresiones complejas y funciones anidadas:"
   ]
  },
  {
   "cell_type": "code",
   "execution_count": null,
   "metadata": {},
   "outputs": [],
   "source": [
    "from math import pi\n",
    "[str(round(pi, i)) for i in range(1, 6)]"
   ]
  },
  {
   "cell_type": "code",
   "execution_count": null,
   "metadata": {},
   "outputs": [],
   "source": [
    "#Generando una lista de cuadrados de enteros del 0 al 9\n",
    "#Forma extendida - sin list comprehension\n",
    "s=[]\n",
    "for x in range(10):\n",
    "    s.append(x**2)\n",
    "print(s)"
   ]
  },
  {
   "cell_type": "code",
   "execution_count": null,
   "metadata": {},
   "outputs": [],
   "source": [
    "#Generando una lista de cuadrados de enteros del 0 al 9\n",
    "#Forma pythónica - con list comprehension\n",
    "s = [x**2 for x in range(10)]\n",
    "print(s)"
   ]
  },
  {
   "cell_type": "code",
   "execution_count": null,
   "metadata": {},
   "outputs": [],
   "source": [
    "#Lista con las potoncias de 2 de 0 a 12\n",
    "#Forma extendida - sin list comprehension\n",
    "v = []\n",
    "for x in range(13):\n",
    "    v.append(2**x)\n",
    "print(v)"
   ]
  },
  {
   "cell_type": "code",
   "execution_count": null,
   "metadata": {},
   "outputs": [],
   "source": [
    "#Lista com las potencias de 2 de 0 a 12\n",
    "#Forma pythónica - con list comprehension\n",
    "v = [2**x for x in range(0,13)]\n",
    "print(v)"
   ]
  },
  {
   "cell_type": "code",
   "execution_count": null,
   "metadata": {},
   "outputs": [],
   "source": [
    "#Sublista de los números pares de la lista s\n",
    "#(Cuadrados pares de los enteros de 0 a 9)\n",
    "#Forma extendida - sin list comprehension\n",
    "m = []\n",
    "for x in range(10):\n",
    "    if x**2%2==0:\n",
    "        m.append(x**2)\n",
    "print(m)"
   ]
  },
  {
   "cell_type": "code",
   "execution_count": null,
   "metadata": {},
   "outputs": [],
   "source": [
    "#Sublista de los números pares de la lista s\n",
    "#(Cuadrados pares de los enteros de 0 a 9)\n",
    "#Forma pythónica - sin list comprehension\n",
    "m = [x**2 for x in range(10) if x**2%2==0]\n",
    "print(m)"
   ]
  },
  {
   "cell_type": "code",
   "execution_count": null,
   "metadata": {},
   "outputs": [],
   "source": [
    "#Podemos alternativamente formar una lista m a partir de s \n",
    "#(lista de los cuadrados ya definido arriba)\n",
    "m = [x for x in s if x%2==0]\n",
    "print(m)"
   ]
  },
  {
   "cell_type": "code",
   "execution_count": null,
   "metadata": {},
   "outputs": [],
   "source": [
    "#Lista de los años bisiestos entre 1900 e 2200 \n",
    "#con list comprehension\n",
    "bisiestos = [x for x in range(1900,2200) if ((x%4==0 and x%100!=0) or x%400==0)]"
   ]
  },
  {
   "cell_type": "code",
   "execution_count": null,
   "metadata": {},
   "outputs": [],
   "source": [
    "print(bisiestos)"
   ]
  },
  {
   "cell_type": "markdown",
   "metadata": {},
   "source": [
    "### Ejercicio 11:\n",
    "\n",
    "Dada una lista almacenada en una variable: a = [1, 4, 9, 16, 25, 36, 49, 64, 81, 100], escriba un programa que tome esta lista y cree una nueva lista que solo contenga los elementos pares de las misma utilizando comprensión de listas."
   ]
  },
  {
   "cell_type": "code",
   "execution_count": null,
   "metadata": {},
   "outputs": [],
   "source": [
    "# Escriba el código aqui\n"
   ]
  },
  {
   "cell_type": "markdown",
   "metadata": {},
   "source": [
    "### Ejercicio 12:\n",
    "\n",
    "Crear una lista con las potencias de 2 (n²) de los primeros 10 números.\n",
    "\n",
    "<b>Salida deseada:</b><br>\n",
    "[0, 1, 4, 9, 16, 25, 36, 49, 64, 81, 100]"
   ]
  },
  {
   "cell_type": "code",
   "execution_count": null,
   "metadata": {},
   "outputs": [],
   "source": [
    "# Escriba el código aqui\n"
   ]
  },
  {
   "cell_type": "markdown",
   "metadata": {},
   "source": [
    "### Ejercicio 13:\n",
    "\n",
    "Escribir un programa con Comprensión de Listas que pregunte al usuario una cantidad a invertir, el interés anual y el número de años, y muestre por pantalla el capital obtenido en la inversión cada año que dura la inversión.\n",
    "\n",
    "<b>Salida deseada:</b><br><br>\n",
    "¿Cantidad a invertir?  1000<br>\n",
    "¿Interés porcentual anual?  10<br>\n",
    "¿Años? 5<br>\n",
    "Capital tras 1 años: 1100.00<br>\n",
    "Capital tras 2 años: 1210.00<br>\n",
    "Capital tras 3 años: 1331.00<br>\n",
    "Capital tras 4 años: 1464.10<br>\n",
    "Capital tras 5 años: 1610.51<br>"
   ]
  },
  {
   "cell_type": "code",
   "execution_count": null,
   "metadata": {},
   "outputs": [],
   "source": [
    "# Escriba el código aqui\n"
   ]
  },
  {
   "cell_type": "markdown",
   "metadata": {},
   "source": [
    "### Ejercicio 14:\n",
    "\n",
    "Escriba un programa con comprensión de listas que pida un número entero mayor que cero y calcule su factorial.\n",
    "\n",
    "<b>Salida deseada:</b><br><br>\n",
    "FACTORIAL<br>\n",
    "Escriba un número entero mayor que cero: -5<br>\n",
    "¡Le he pedido un número entero mayor que cero!<br>\n",
    "<br>\n",
    "FACTORIAL<br>\n",
    "Escriba un número entero mayor que cero: 5<br>\n",
    "El factorial de 5 es 120<br>"
   ]
  },
  {
   "cell_type": "code",
   "execution_count": null,
   "metadata": {},
   "outputs": [],
   "source": [
    "# Escriba el código aqui\n"
   ]
  },
  {
   "cell_type": "markdown",
   "metadata": {},
   "source": [
    "### Ejercicio 15:\n",
    "\n",
    "Una matriz identidad de tamaño n es una matriz cuadrada de n filas por n columnas en donde cada elemento de la diagonal principal es 1 y los elementos restantes son 0.\n",
    "\n",
    "Crear un programa en Python que solicite n y retorne una matriz identidad de (n,n)."
   ]
  },
  {
   "cell_type": "code",
   "execution_count": null,
   "metadata": {},
   "outputs": [],
   "source": [
    "# Escriba el código aqui\n"
   ]
  },
  {
   "cell_type": "markdown",
   "metadata": {},
   "source": [
    "## 3.8 Listas de Listas (Listas Anidadas)"
   ]
  },
  {
   "cell_type": "markdown",
   "metadata": {},
   "source": [
    "La expresión inicial de una comprensión de listas puede ser cualquier expresión arbitraria, incluyendo otra comprensión de listas.\n",
    "\n",
    "Considerá el siguiente ejemplo de una matriz de 3x4 implementada como una lista de tres listas de largo 4:"
   ]
  },
  {
   "cell_type": "code",
   "execution_count": null,
   "metadata": {},
   "outputs": [],
   "source": [
    "matriz = [\n",
    "    [1, 2, 3, 4],\n",
    "    [5, 6, 7, 8],\n",
    "    [9, 10, 11, 12],\n",
    "]\n",
    "matriz"
   ]
  },
  {
   "cell_type": "markdown",
   "metadata": {},
   "source": [
    "La siguiente comprensión de lista transpondrá las filas y columnas:"
   ]
  },
  {
   "cell_type": "code",
   "execution_count": null,
   "metadata": {},
   "outputs": [],
   "source": [
    "[[fila[i] for fila in matriz] for i in range(4)]"
   ]
  },
  {
   "cell_type": "markdown",
   "metadata": {},
   "source": [
    "Como vimos en la sección anterior, la lista de comprensión anidada se evalua en el contexto del for que lo sigue, por lo que este ejemplo equivale a:"
   ]
  },
  {
   "cell_type": "code",
   "execution_count": null,
   "metadata": {},
   "outputs": [],
   "source": [
    "transpuesta = []\n",
    "for i in range(4):\n",
    "    transpuesta.append([fila[i] for fila in matriz])\n",
    "\n",
    "transpuesta"
   ]
  },
  {
   "cell_type": "markdown",
   "metadata": {},
   "source": [
    "el cual, a la vez, es lo mismo que:"
   ]
  },
  {
   "cell_type": "code",
   "execution_count": null,
   "metadata": {},
   "outputs": [],
   "source": [
    "transpuesta = []\n",
    "for i in range(4):\n",
    "    # las siguientes 3 lineas hacen la comprensión \n",
    "    #de listas anidada\n",
    "    fila_transpuesta = []\n",
    "    for fila in matriz:\n",
    "        fila_transpuesta.append(fila[i])\n",
    "    transpuesta.append(fila_transpuesta)\n",
    "\n",
    "transpuesta"
   ]
  },
  {
   "cell_type": "markdown",
   "metadata": {},
   "source": [
    "En el mundo real, deberías preferir funciones predefinidas a declaraciones con flujo complejo. La función zip() haría un buen trabajo para este caso de uso:"
   ]
  },
  {
   "cell_type": "code",
   "execution_count": null,
   "metadata": {},
   "outputs": [],
   "source": [
    "list(zip(*matriz))"
   ]
  },
  {
   "cell_type": "markdown",
   "metadata": {},
   "source": [
    "(\\*) Sirve para desempaquetando una lista de argumentos."
   ]
  },
  {
   "cell_type": "markdown",
   "metadata": {},
   "source": [
    "Dada una matriz, se puede acceder a sus alementos de la siguiente forma."
   ]
  },
  {
   "cell_type": "code",
   "execution_count": null,
   "metadata": {},
   "outputs": [],
   "source": [
    "matriz = [[1,2],[4,3],[1,5]]\n",
    "print(matriz[0][1])"
   ]
  },
  {
   "cell_type": "code",
   "execution_count": null,
   "metadata": {},
   "outputs": [],
   "source": [
    "matriz[2][1]=10 #Redefinir un elemento de la matriz\n",
    "print(matriz)"
   ]
  },
  {
   "cell_type": "markdown",
   "metadata": {},
   "source": [
    "Una lista de listas ni siempre representa una matriz numérica. O sea, las listas internas no precisan tener el mismo tamaña y pueden mezclar tipos e datos diferentes."
   ]
  },
  {
   "cell_type": "code",
   "execution_count": null,
   "metadata": {},
   "outputs": [],
   "source": [
    "lista_de_listas=[ [\"gato\",\"perro\",\"elefante\"], [\"abeja\",\"mosquito\"],[\"pez\"],[1,2,5,8.45] ]\n",
    "print(type(lista_de_listas), lista_de_listas)\n",
    "print(type(lista_de_listas[1][1]), lista_de_listas[1][1])\n",
    "print(type(lista_de_listas[3][2]), lista_de_listas[3][2])"
   ]
  },
  {
   "cell_type": "markdown",
   "metadata": {},
   "source": [
    "Podemos usar un bucle dentro de otro para iterar sobre listas de listas"
   ]
  },
  {
   "cell_type": "code",
   "execution_count": null,
   "metadata": {},
   "outputs": [],
   "source": [
    "for lista in lista_de_listas:\n",
    "    for x in lista:\n",
    "        print(x)"
   ]
  },
  {
   "cell_type": "code",
   "execution_count": null,
   "metadata": {},
   "outputs": [],
   "source": [
    "#Usando enumerate para obtener el índice de los elementos\n",
    "for i,lista in enumerate(lista_de_listas):\n",
    "    for j,x in enumerate(lista):\n",
    "        print(f\"Elemento {i},{j} = {x}\")"
   ]
  },
  {
   "cell_type": "code",
   "execution_count": null,
   "metadata": {},
   "outputs": [],
   "source": [
    "#Otra forma de imprimir elementos\n",
    "for i,lista in enumerate(lista_de_listas):\n",
    "    for j,x in enumerate(lista):\n",
    "        print(\"Elemento\",i,\",\",j,\" = \",x)"
   ]
  },
  {
   "cell_type": "markdown",
   "metadata": {},
   "source": [
    "### Ejercicio 16:\n",
    "\n",
    "Escriba un programa que pida al usuario una matriz de 3x3 números enteros y luego muestre la media de las tres filas."
   ]
  },
  {
   "cell_type": "code",
   "execution_count": null,
   "metadata": {},
   "outputs": [],
   "source": [
    "# Escriba el código aqui\n"
   ]
  },
  {
   "cell_type": "markdown",
   "metadata": {},
   "source": [
    "### Ejercicio 17:\n",
    "\n",
    "Solicite el tamaño de fila (fil) y columna (col) de las matrices. Llene una matriz con números secuenciales del 1 al (fil*col). La segunda matriz con su potencia ([fil,col]^2).Suma las matrices."
   ]
  },
  {
   "cell_type": "code",
   "execution_count": null,
   "metadata": {},
   "outputs": [],
   "source": [
    "# Escriba el código aqui\n"
   ]
  },
  {
   "cell_type": "markdown",
   "metadata": {},
   "source": [
    "### Ejercicio 18:\n",
    "\n",
    "Una compañia tiene N sucursales en todo el país. Se formó una matriz de N por 12 que contiene las ventas de cada sucursal durante los 12 meses del año. Elaborar un programa que nos permita hallar e imprimir lo siguiente:\n",
    "<ul>\n",
    "    <li>Total de ventas por compañia.</li>\n",
    "    <li>Total de ventas por sucursal.</li>\n",
    "    <li>Sucursal que más vendió durante el año</li>\n",
    "    <li>Mes que menos vendió la compañia.</li>\n",
    "</ul>"
   ]
  },
  {
   "cell_type": "code",
   "execution_count": null,
   "metadata": {},
   "outputs": [],
   "source": [
    "# Escriba el código aqui\n"
   ]
  },
  {
   "cell_type": "markdown",
   "metadata": {},
   "source": [
    "### Ejercicio 19:\n",
    "\n",
    "Lea una matriz de N xM y a continuación:\n",
    "<ul>\n",
    "    <li>Elimine la fila x (x debe leer y validar)</li>\n",
    "    <li>Elimine la columna y (y se debe leer y validar)</li>\n",
    "    <li>Inserte una nueva fila en x (x debe leer y validar)</li>\n",
    "    <li>Inserte una nueva columna en y (y se debe leer y validar)</li>\n",
    "</ul>"
   ]
  },
  {
   "cell_type": "code",
   "execution_count": null,
   "metadata": {},
   "outputs": [],
   "source": [
    "# Escriba el código aqui\n"
   ]
  },
  {
   "cell_type": "markdown",
   "metadata": {},
   "source": [
    "### Ejercicio 20:\n",
    "\n",
    "Dada una matriz de nxm, utiliza la libreria random para rellenar la matriz con un rango de (-100,100) y reemplace todos los números negativos por un cero y los positivos por un 1. Mostrar la matriz original y la matriz modificada."
   ]
  },
  {
   "cell_type": "code",
   "execution_count": null,
   "metadata": {},
   "outputs": [],
   "source": [
    "# Escriba el código aqui\n"
   ]
  },
  {
   "cell_type": "markdown",
   "metadata": {},
   "source": [
    "## 3.9 La Instrucción del\n",
    "\n",
    "Hay una manera de quitar un ítem de una lista dado su índice en lugar de su valor: la instrucción <b>del</b>. Esta es diferente del método <b>pop()</b>, el cual devuelve un valor. La instrucción <b>del</b> también puede usarse para quitar secciones de una lista o vaciar la lista completa (lo que hacíamos antes asignando una lista vacía a la sección). Por ejemplo:"
   ]
  },
  {
   "cell_type": "code",
   "execution_count": null,
   "metadata": {},
   "outputs": [],
   "source": [
    "a = [-1, 1, 66.25, 333, 333, 1234.5]\n",
    "print(a)"
   ]
  },
  {
   "cell_type": "code",
   "execution_count": null,
   "metadata": {},
   "outputs": [],
   "source": [
    "del a[0]\n",
    "print(a)"
   ]
  },
  {
   "cell_type": "code",
   "execution_count": null,
   "metadata": {},
   "outputs": [],
   "source": [
    "del a[2:4]\n",
    "print(a)"
   ]
  },
  {
   "cell_type": "code",
   "execution_count": null,
   "metadata": {},
   "outputs": [],
   "source": [
    "del a[:]\n",
    "print(a)"
   ]
  },
  {
   "cell_type": "markdown",
   "metadata": {},
   "source": [
    "<b>del</b> puede usarse también para eliminar variables:"
   ]
  },
  {
   "cell_type": "code",
   "execution_count": null,
   "metadata": {},
   "outputs": [],
   "source": [
    "del a"
   ]
  },
  {
   "cell_type": "code",
   "execution_count": null,
   "metadata": {},
   "outputs": [],
   "source": [
    "type(a)"
   ]
  },
  {
   "cell_type": "markdown",
   "metadata": {},
   "source": [
    "Hacer referencia al nombre a de aquí en más es un error (al menos hasta que se le asigne otro valor). Veremos otros usos para <b>del</b> más adelante."
   ]
  },
  {
   "cell_type": "markdown",
   "metadata": {},
   "source": [
    "## 3.10 Función enumerate\n",
    "\n",
    "Suponga que usted tenga una lista de personas = ['Juan','José','Maria'].\n",
    "\n",
    "La función <b>enumerate</b> retorna tuplas de índices y elementos en el formato [(0,'Juan'),(1,'José'),(2,'Maria')]. El resultado de la función <b>enumerate</b> puede ser convertido para lista con la función list()"
   ]
  },
  {
   "cell_type": "code",
   "execution_count": null,
   "metadata": {},
   "outputs": [],
   "source": [
    "personas=['Juan','José','Maria']"
   ]
  },
  {
   "cell_type": "code",
   "execution_count": null,
   "metadata": {},
   "outputs": [],
   "source": [
    "enum_personas = list(enumerate(personas))\n",
    "print(enum_personas)"
   ]
  },
  {
   "cell_type": "code",
   "execution_count": null,
   "metadata": {},
   "outputs": [],
   "source": [
    "#La función enumerate puede ser útil dentro de un bucle for, \n",
    "# que veremos más adelante.\n",
    "#Por ahora vamos a quedar apenas con este ejemplo\n",
    "for i,p in enumerate(personas):\n",
    "    #usando f-string p/ intercalar texto con variables\n",
    "    #(Disponible a partir del Python 3.6)\n",
    "    print(f\"Personas {i}={p}\") "
   ]
  },
  {
   "cell_type": "markdown",
   "metadata": {},
   "source": [
    "## 3.11 Función zip"
   ]
  },
  {
   "cell_type": "markdown",
   "metadata": {},
   "source": [
    "La función zip combina dos listas en una lsita de tuplas. Por ejemplo:"
   ]
  },
  {
   "cell_type": "code",
   "execution_count": null,
   "metadata": {},
   "outputs": [],
   "source": [
    "indices=[1,2,3]\n",
    "nombres=[\"ana\",\"maria\",\"josé\"]\n",
    "#Convierte el objeto zip para lista\n",
    "nombres_indexados=list(zip(indices,nombres))\n",
    "print(nombres_indexados)"
   ]
  },
  {
   "cell_type": "code",
   "execution_count": null,
   "metadata": {},
   "outputs": [],
   "source": [
    "nombres=[\"ana\",\"maria\",\"josé\"]\n",
    "edades = [14,21,38]\n",
    "pesos = [58,70,90]\n",
    "datos_personas = list(zip(nombres,edades,pesos))\n",
    "print(datos_personas)"
   ]
  },
  {
   "cell_type": "markdown",
   "metadata": {},
   "source": [
    "### Ejercicio 21:\n",
    "\n",
    "Escriba un programa con list comprehension para jugar a adivinar un número (el ordenador \"piensa\" el número y el usuario tiene que adivinarlo). El programa empieza pidiendo entre qué números está el número a adivinar, se \"inventa\" un número al azar y después el usuario va probando valores y el programa va diciendo si son demasiado grandes o pequeños.\n",
    "\n",
    "<b>Salida deseada:</b><br>\n",
    "\n",
    "Valor mínimo: 0<br>\n",
    "Valor máximo: 100<br>\n",
    "Intente adivinar un número entero entre 0 y 100.<br>\n",
    "Escriba un número: 20<br>\n",
    "¡Demasiado pequeño! Inténtelo de nuevo: 30<br>\n",
    "¡Demasiado grande! Inténtelo de nuevo: 27<br>\n",
    "¡Acertó! Le ha costado 3 intentos.\n",
    "\n",
    "<b>Sugerencia:</b> puede perfeccionar este programa haciendo:\n",
    "\n",
    "* que al principio el programa se asegure de que el valor máximo es superior al valor mínimo.\n",
    "* que el programa detecte \"trampas\", por ejemplo, si al decir 25 le decimos \"mayor\" y al decir 26 le decimos \"menor\", el programa debe decirnos que estamos haciendo trampas y dejar de jugar."
   ]
  },
  {
   "cell_type": "code",
   "execution_count": null,
   "metadata": {},
   "outputs": [],
   "source": [
    "# Escriba el código aqui\n"
   ]
  },
  {
   "cell_type": "markdown",
   "metadata": {},
   "source": [
    "### Ejercicio 22:\n",
    "\n",
    "Calcule el producto escalar E de dos listas de números de igual tamaño. Considere que las listas pueden tener cualquier tamaño.<br>\n",
    "    Ej: X = [3,6,7] Y=[2,7,8]<br>\n",
    "    E= 3 * 2 + 6 * 7 + 7 * 8"
   ]
  },
  {
   "cell_type": "code",
   "execution_count": null,
   "metadata": {},
   "outputs": [],
   "source": [
    "X=[3,6,7,6]\n",
    "Y=[5,8,9,2]\n",
    "#Consejo: use list comprehension y zip"
   ]
  },
  {
   "cell_type": "markdown",
   "metadata": {},
   "source": [
    "### Ejercicio 23:\n",
    "#Una matriz puede ser definida como una lista de listas.<br>\n",
    "A=[[1,2,3],[4,5,6],[2,2,2]] #Matriz 3X3<br>\n",
    "B=[[5,2,1],[2,1,7],[4,1,2]]<br>\n",
    "<br>\n",
    "Defina una matriz S con la suma de las matrizes<br>"
   ]
  },
  {
   "cell_type": "code",
   "execution_count": null,
   "metadata": {},
   "outputs": [],
   "source": [
    "A=[[1,2,3],[4,5,6],[2,2,2]]\n",
    "B=[[5,2,1],[2,1,7],[4,1,2]]\n",
    "#Calcule S"
   ]
  }
 ],
 "metadata": {
  "kernelspec": {
   "display_name": "Python 3",
   "language": "python",
   "name": "python3"
  },
  "language_info": {
   "codemirror_mode": {
    "name": "ipython",
    "version": 3
   },
   "file_extension": ".py",
   "mimetype": "text/x-python",
   "name": "python",
   "nbconvert_exporter": "python",
   "pygments_lexer": "ipython3",
   "version": "3.7.4"
  }
 },
 "nbformat": 4,
 "nbformat_minor": 2
}
